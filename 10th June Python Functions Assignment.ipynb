{
 "cells": [
  {
   "cell_type": "markdown",
   "id": "ddbd61d8",
   "metadata": {},
   "source": [
    "#### 1. In Python, what is the difference between a built-in function and a user-defined function? Provide an example of each."
   ]
  },
  {
   "cell_type": "markdown",
   "id": "072a5a4e",
   "metadata": {},
   "source": [
    "#### Solution:\n",
    "\n",
    "In Python, the main difference between a built-in function and a user-defined function lies in their origins and usage.\n",
    "\n",
    "1. Built-in function:Built-in functions are functions that are part of the Python standard library, and they come pre-defined with the language. These functions are readily available for use without requiring any additional imports or code. They serve as core tools to perform common tasks and operations in Python.\n",
    "\n",
    "2. User-defined function:User-defined functions are functions that programmers create themselves to perform specific tasks or to encapsulate a block of code. These functions can be tailored to meet specific requirements and improve code modularity and reusability."
   ]
  },
  {
   "cell_type": "code",
   "execution_count": 8,
   "id": "89c4d9a6",
   "metadata": {},
   "outputs": [
    {
     "name": "stdout",
     "output_type": "stream",
     "text": [
      "Mukesh Ambani\n",
      "['Mukesh', 'Ambani']\n",
      "<class 'str'>\n"
     ]
    }
   ],
   "source": [
    "# example of built in Function \n",
    "# functions like print(), type() are built in function \n",
    "# there are string functions like split(), len()\n",
    "\n",
    "a=\"Mukesh Ambani\"\n",
    "print(a)\n",
    "print(a.split())\n",
    "print(type(a))\n"
   ]
  },
  {
   "cell_type": "code",
   "execution_count": 43,
   "id": "765f07fe",
   "metadata": {},
   "outputs": [],
   "source": [
    "#example of user defiend function \n",
    "# we can create a function to find the odd nos in given list\n",
    "lis =[3,4,5,99,50,3,7]\n",
    "\n",
    "def odd_list(lis):\n",
    "    lis_odd =[]\n",
    "    for i in lis:\n",
    "        if (i % 2 == 0):\n",
    "            lis_odd = lis_odd\n",
    "        elif (i%2 != 0) : \n",
    "            lis_odd.append(i)\n",
    "    return lis_odd"
   ]
  },
  {
   "cell_type": "code",
   "execution_count": 44,
   "id": "12758cea",
   "metadata": {},
   "outputs": [
    {
     "data": {
      "text/plain": [
       "[3, 5, 99, 3, 7]"
      ]
     },
     "execution_count": 44,
     "metadata": {},
     "output_type": "execute_result"
    }
   ],
   "source": [
    "odd_list(lis)"
   ]
  },
  {
   "cell_type": "markdown",
   "id": "5c48447f",
   "metadata": {},
   "source": [
    "#### 2. How can you pass arguments to a function in Python? Explain the difference between positional arguments and keyword arguments."
   ]
  },
  {
   "cell_type": "markdown",
   "id": "05ccfec2",
   "metadata": {},
   "source": [
    "#### Solution :\n",
    "\n",
    "In Python, you can pass arguments to a function when calling it. Arguments are values or variables that you provide to the function, allowing it to perform operations or computations based on those values. When defining a function, you specify parameters inside the parentheses, and when calling the function, you pass the corresponding arguments.\n",
    "\n",
    "1. Positional Arguments:Positional arguments are the most common way to pass arguments to a function. When you pass arguments in this manner, the order of the arguments matters, and they are assigned to the corresponding parameters in the function definition based on their position.\n",
    "\n",
    "2. Keyword Arguments: Keyword arguments, on the other hand, are passed with the parameter names explicitly specified. When using keyword arguments, the order of the arguments does not matter. Instead, the arguments are assigned based on their corresponding parameter names.\n"
   ]
  },
  {
   "cell_type": "code",
   "execution_count": 46,
   "id": "80e8ff35",
   "metadata": {},
   "outputs": [
    {
     "data": {
      "text/plain": [
       "315"
      ]
     },
     "execution_count": 46,
     "metadata": {},
     "output_type": "execute_result"
    }
   ],
   "source": [
    "#example positional argument \n",
    "#function to find the producct of three  nos \n",
    "\n",
    "def pro (x,y,z):\n",
    "    \n",
    "    product =x*y*z\n",
    "    \n",
    "    return product \n",
    "\n",
    "# here order doesnot matter as all are intergers \n",
    "pro(15,3,7)"
   ]
  },
  {
   "cell_type": "code",
   "execution_count": 50,
   "id": "30e25ec6",
   "metadata": {},
   "outputs": [
    {
     "name": "stdout",
     "output_type": "stream",
     "text": [
      "name :  anand\n",
      "designation : 100000\n",
      "salary : manager\n"
     ]
    }
   ],
   "source": [
    "# example keyword args \n",
    "# function to print name designation and salary of employee\n",
    "def emp_data(name, designation,salary):\n",
    "    print(\"name : \", name)\n",
    "    print(\"designation :\", designation)\n",
    "    print(\"salary :\" , salary)\n",
    "# now here we cannot provide in any order  we will have to provide in specific order \n",
    "#or using keyword args other wise we will get incorrect result \n",
    "emp_data(\"anand\",100000,\"manager\")"
   ]
  },
  {
   "cell_type": "code",
   "execution_count": 51,
   "id": "364bb8a0",
   "metadata": {},
   "outputs": [
    {
     "name": "stdout",
     "output_type": "stream",
     "text": [
      "name :  anand\n",
      "designation : manager\n",
      "salary : 10000\n"
     ]
    }
   ],
   "source": [
    "# using keyword args we may change the order but we ensure that correct value is provided to the correct variable \n",
    "emp_data(name=\"anand\",salary=10000,designation=\"manager\")"
   ]
  },
  {
   "cell_type": "markdown",
   "id": "1c210a0a",
   "metadata": {},
   "source": [
    "#### 3. What is the purpose of the return statement in a function? Can a function have multiple return statements? Explain with an example."
   ]
  },
  {
   "cell_type": "markdown",
   "id": "b57e4dd0",
   "metadata": {},
   "source": [
    "#### Solution:\n",
    "\n",
    "The return statement in a function serves the purpose of specifying the value that the function should produce or yield as its result. When a function encounters a return statement, it immediately exits the function, and the specified value (if any) is returned to the caller of the function.\n",
    "\n",
    "The return statement is crucial because it allows functions to pass information back to the caller, enabling them to use the computed result or data for further processing or manipulation. Without the return statement, a function would not have any means to provide a value or communicate with the code that called it.\n",
    "\n",
    "Yes, a function can have multiple return statements. However, it's important to note that as soon as a return statement is executed within a function, the function exits, and no further statements within the function are executed. So, typically, only one return statement is executed during the function call."
   ]
  },
  {
   "cell_type": "code",
   "execution_count": 52,
   "id": "4e38f3a1",
   "metadata": {},
   "outputs": [],
   "source": [
    "# example of function with multiple return statement \n",
    "def greater_func(a,b):\n",
    "    \n",
    "    if (a>b):\n",
    "        return a #-------first return \n",
    "    if(b>a):\n",
    "        return b #-------second return "
   ]
  },
  {
   "cell_type": "code",
   "execution_count": 57,
   "id": "78b879fe",
   "metadata": {},
   "outputs": [
    {
     "data": {
      "text/plain": [
       "6"
      ]
     },
     "execution_count": 57,
     "metadata": {},
     "output_type": "execute_result"
    }
   ],
   "source": [
    "# when first return will be executed \n",
    "greater_func(7,6)"
   ]
  },
  {
   "cell_type": "code",
   "execution_count": 58,
   "id": "e7484925",
   "metadata": {},
   "outputs": [
    {
     "data": {
      "text/plain": [
       "6"
      ]
     },
     "execution_count": 58,
     "metadata": {},
     "output_type": "execute_result"
    }
   ],
   "source": [
    "# when second return will be executed \n",
    "greater_func(2,6)"
   ]
  },
  {
   "cell_type": "markdown",
   "id": "74da6403",
   "metadata": {},
   "source": [
    "#### 4. What are lambda functions in Python? How are they different from regular functions? Provide an example where a lambda function can be useful."
   ]
  },
  {
   "cell_type": "markdown",
   "id": "9a4b5f89",
   "metadata": {},
   "source": [
    "#### Solution:\n",
    "Lambda functions in Python are a way to create small, anonymous functions without having to define them using the def keyword. They are also known as \"anonymous functions\" because they don't have a formal name like regular functions. Lambda functions are typically used for short, simple operations that don't require the complexity of a regular function.They are especially useful when used as arguments for higher-order functions like map(), filter(), and sorted()\n",
    "\n",
    "- Syntax:\n",
    "\n",
    "<br>\n",
    "  lambda arguments: expression\n",
    "  \n",
    "  \n",
    "  - lambda: The keyword that indicates the creation of a lambda function.\n",
    "  - arguments: The input parameters of the lambda function, similar to regular functions.\n",
    "  - expression: The single expression that is evaluated and returned when the lambda function is called."
   ]
  },
  {
   "cell_type": "code",
   "execution_count": 9,
   "id": "921f23de",
   "metadata": {},
   "outputs": [
    {
     "data": {
      "text/plain": [
       "['Thomson', 'Robinson', 'Peterson', 'Longbottom', 'Johnson', 'Davidson']"
      ]
     },
     "execution_count": 9,
     "metadata": {},
     "output_type": "execute_result"
    }
   ],
   "source": [
    "# lambda function example \n",
    "# suppose we have we have a list of strings an we want to trim white spaces from all of them \n",
    "\n",
    "lis_str=[\"Thoms on\",\"Robin son\",\"Peter son\",\"Long bottom\",\"John son\",\"David son\"]\n",
    "claen_str=list(map(lambda x:x.replace(\" \",\"\"),lis_str))\n",
    "claen_str"
   ]
  },
  {
   "cell_type": "markdown",
   "id": "1cf21cfb",
   "metadata": {},
   "source": [
    "#### 5. How does the concept of \"scope\" apply to functions in Python? Explain the difference between local scope and global scope."
   ]
  },
  {
   "cell_type": "markdown",
   "id": "db30b47e",
   "metadata": {},
   "source": [
    "#### Solution\n",
    "In Python, \"scope\" refers to the region of the program where a particular variable or identifier is accessible. The scope determines where you can use and access variables and functions in your code. Understanding scope is crucial for writing maintainable and bug-free code.\n",
    "\n",
    "There are two main types of scope in Python:\n",
    "\n",
    "- Local Scope:Variables defined inside a function have local scope. They are accessible only within the function where they are defined.These variables cannot be accessed from outside the function, and they are considered local to that function.Once the function execution is completed, the local variables are destroyed, and their values are not accessible anymore.\n",
    "\n",
    "- Global Scope:Variables defined outside any function, at the top level of the script or module, have global scope.These variables can be accessed and modified from anywhere in the code, including within functions.Global variables persist throughout the lifetime of the program."
   ]
  },
  {
   "cell_type": "code",
   "execution_count": 11,
   "id": "99775396",
   "metadata": {},
   "outputs": [],
   "source": [
    "# local global example \n",
    "\n",
    "#global variable country\n",
    "country = \"India\" \n",
    "\n",
    "def maharshtra (city):\n",
    "    #local variable state and city \n",
    "    state = \"MH\" \n",
    "    city = city \n",
    "    return city,state ,country\n",
    "\n",
    "\n",
    "def karnataka (city):\n",
    "    # local variable state and city \n",
    "    state = \"KA\" \n",
    "    city = city \n",
    "    return city,state ,country"
   ]
  },
  {
   "cell_type": "code",
   "execution_count": 13,
   "id": "a4e316cf",
   "metadata": {},
   "outputs": [
    {
     "data": {
      "text/plain": [
       "('mumbai', 'MH', 'India')"
      ]
     },
     "execution_count": 13,
     "metadata": {},
     "output_type": "execute_result"
    }
   ],
   "source": [
    "maharshtra(\"mumbai\")"
   ]
  },
  {
   "cell_type": "code",
   "execution_count": 14,
   "id": "4eda9cdf",
   "metadata": {},
   "outputs": [
    {
     "data": {
      "text/plain": [
       "'India'"
      ]
     },
     "execution_count": 14,
     "metadata": {},
     "output_type": "execute_result"
    }
   ],
   "source": [
    "# country is a global varaible and hence can be directly accessed \n",
    "country"
   ]
  },
  {
   "cell_type": "code",
   "execution_count": 15,
   "id": "de5abb5d",
   "metadata": {},
   "outputs": [
    {
     "ename": "NameError",
     "evalue": "name 'city' is not defined",
     "output_type": "error",
     "traceback": [
      "\u001b[1;31m---------------------------------------------------------------------------\u001b[0m",
      "\u001b[1;31mNameError\u001b[0m                                 Traceback (most recent call last)",
      "Cell \u001b[1;32mIn[15], line 2\u001b[0m\n\u001b[0;32m      1\u001b[0m \u001b[38;5;66;03m# city is a local varaible and can be accessed only using function \u001b[39;00m\n\u001b[1;32m----> 2\u001b[0m \u001b[43mcity\u001b[49m\n",
      "\u001b[1;31mNameError\u001b[0m: name 'city' is not defined"
     ]
    }
   ],
   "source": [
    "# city is a local varaible and can be accessed only using function \n",
    "city"
   ]
  },
  {
   "cell_type": "markdown",
   "id": "78ed783f",
   "metadata": {},
   "source": [
    "#### 6. How can you use the \"return\" statement in a Python function to return multiple values?"
   ]
  },
  {
   "cell_type": "markdown",
   "id": "d8c6ce23",
   "metadata": {},
   "source": [
    "#### Solution\n",
    "\n",
    "In Python, the return statement in a function is used to specify the value that the function should return when called. While a function can only return a single value directly, Python allows you to return multiple values as a tuple. This enables you to effectively return multiple pieces of data from a function.\n",
    "\n"
   ]
  },
  {
   "cell_type": "code",
   "execution_count": 18,
   "id": "b02319af",
   "metadata": {},
   "outputs": [
    {
     "name": "stdout",
     "output_type": "stream",
     "text": [
      "(6.0, 3.0) <class 'tuple'>\n"
     ]
    }
   ],
   "source": [
    "# example\n",
    "def motion(distance, time):\n",
    "    speed= distance/time\n",
    "    accelration =speed /time \n",
    "    return speed, accelration\n",
    "\n",
    "x=motion(12,2)\n",
    "print(x,type(x))"
   ]
  },
  {
   "cell_type": "markdown",
   "id": "3e2442c9",
   "metadata": {},
   "source": [
    "#### 7. What is the difference between the \"pass by value\" and \"pass by reference\" concepts when it comes to function arguments in Python?"
   ]
  },
  {
   "cell_type": "markdown",
   "id": "cf2af28e",
   "metadata": {},
   "source": [
    "#### Solution:\n",
    "In Python, the concepts of \"pass by value\" and \"pass by reference\" are often misunderstood because the behavior of function arguments in Python is a bit different from other programming languages. Python uses a mechanism called \"pass by object reference\" or \"pass by assignment,\" which is a combination of both pass by value and pass by reference. To understand this, let's break down each concept:\n",
    "\n",
    "1. Pass by Value:\n",
    "In languages that follow \"pass by value\" semantics (e.g., C, C++, Java), when you pass a variable to a function as an argument, a copy of the variable's value is created, and this copy is what the function operates on.\n",
    "Any modifications made to the parameter inside the function do not affect the original variable outside the function.\n",
    "\n",
    "2.  Pass by Reference:\n",
    "In languages that follow \"pass by reference\" semantics (e.g., C++, some older versions of Python), when you pass a variable to a function as an argument, you are actually passing a reference (memory address) to that variable. The function operates directly on the original variable using that reference.\n",
    "Any modifications made to the parameter inside the function will affect the original variable outside the function.\n",
    "\n",
    "\n",
    "In Python:\n",
    "\n",
    "- Immutable objects (e.g., numbers, strings, tuples) are passed by value-like behavior. A copy of the object's value is created, and modifications inside the function do not affect the original object.\n",
    "\n",
    "- Mutable objects (e.g., lists, dictionaries) are passed by reference-like behavior. The function receives a reference to the original object, and modifications inside the function affect the original object.\n",
    "\n",
    "\n",
    "So, while Python does not strictly follow either \"pass by value\" or \"pass by reference\" semantics, understanding the distinction between mutable and immutable objects is crucial when dealing with function arguments in Python. Immutable objects behave like pass by value, and mutable objects behave like pass by reference."
   ]
  },
  {
   "cell_type": "code",
   "execution_count": 19,
   "id": "97790e48",
   "metadata": {},
   "outputs": [
    {
     "name": "stdout",
     "output_type": "stream",
     "text": [
      "10\n"
     ]
    }
   ],
   "source": [
    "#immutable=pass by value\n",
    "\n",
    "def increment(x):\n",
    "    x += 1  # Modifying the local copy of 'x'\n",
    "\n",
    "num = 10\n",
    "increment(num)\n",
    "print(num)  # Output: 10 (unchanged)"
   ]
  },
  {
   "cell_type": "code",
   "execution_count": 20,
   "id": "2f527f70",
   "metadata": {},
   "outputs": [
    {
     "name": "stdout",
     "output_type": "stream",
     "text": [
      "[1, 2, 3, 4]\n"
     ]
    }
   ],
   "source": [
    "#mutable= pass by reference\n",
    "\n",
    "def modify_list(my_list):\n",
    "    my_list.append(4)  # Modifying the original list 'my_list'\n",
    "\n",
    "numbers = [1, 2, 3]\n",
    "modify_list(numbers)\n",
    "print(numbers)  # Output: [1, 2, 3, 4] (modified)"
   ]
  },
  {
   "cell_type": "markdown",
   "id": "ca179dbf",
   "metadata": {},
   "source": [
    "#### 8. Create a function that can intake integer or decimal value and do following operations:\n",
    "- a. Logarithmic function (log x)\n",
    "- b. Exponential function (exp(x))\n",
    "- c. Power function with base 2 (2^x)\n",
    "- d. Square root"
   ]
  },
  {
   "cell_type": "code",
   "execution_count": 1,
   "id": "edeff4f9",
   "metadata": {},
   "outputs": [],
   "source": [
    "import math\n",
    "def operation (num):\n",
    "    # logarithm\n",
    "    log= math.log(num)\n",
    "    print(\"Natural logarithm of given no is\" , log)\n",
    "    # exponential \n",
    "    exp=math.exp(num)\n",
    "    print(\"exponential e raised to power of given no is\" , exp)\n",
    "    #Power Function with base 2\n",
    "    pow=2**num\n",
    "    print(\"power function two to power of given no is\" , pow)\n",
    "    #square root\n",
    "    sqt = math.sqrt(num)\n",
    "    print(\"square root of given no is\" , sqt)\n",
    "    "
   ]
  },
  {
   "cell_type": "code",
   "execution_count": 2,
   "id": "bd878146",
   "metadata": {},
   "outputs": [
    {
     "name": "stdout",
     "output_type": "stream",
     "text": [
      "enter no : 5\n",
      "Natural logarithm of given no is 1.6094379124341003\n",
      "exponential e raised to power of given no is 148.4131591025766\n",
      "power function two to power of given no is 32.0\n",
      "square root of given no is 2.23606797749979\n"
     ]
    }
   ],
   "source": [
    "x= float(input(\"enter no : \"))\n",
    "operation(x)\n"
   ]
  },
  {
   "cell_type": "markdown",
   "id": "0a1de4a6",
   "metadata": {},
   "source": [
    "#### 9. Create a function that takes a full name as an argument and returns first name and last name."
   ]
  },
  {
   "cell_type": "code",
   "execution_count": 19,
   "id": "31cf9a64",
   "metadata": {},
   "outputs": [],
   "source": [
    "def split_name(fullname):\n",
    "    firstname= (fullname.split(\" \"))[0]\n",
    "    lastname= (fullname.split(\" \"))[1]\n",
    "    return firstname, lastname"
   ]
  },
  {
   "cell_type": "code",
   "execution_count": 21,
   "id": "772ec3dd",
   "metadata": {},
   "outputs": [
    {
     "name": "stdout",
     "output_type": "stream",
     "text": [
      "Enter Fullname :Nidhi Pare\n"
     ]
    },
    {
     "data": {
      "text/plain": [
       "('Nidhi', 'Pare')"
      ]
     },
     "execution_count": 21,
     "metadata": {},
     "output_type": "execute_result"
    }
   ],
   "source": [
    "split_name(input(\"Enter Fullname :\"))"
   ]
  }
 ],
 "metadata": {
  "kernelspec": {
   "display_name": "Python 3 (ipykernel)",
   "language": "python",
   "name": "python3"
  },
  "language_info": {
   "codemirror_mode": {
    "name": "ipython",
    "version": 3
   },
   "file_extension": ".py",
   "mimetype": "text/x-python",
   "name": "python",
   "nbconvert_exporter": "python",
   "pygments_lexer": "ipython3",
   "version": "3.10.9"
  }
 },
 "nbformat": 4,
 "nbformat_minor": 5
}
