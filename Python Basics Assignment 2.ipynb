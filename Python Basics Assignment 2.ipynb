{
 "cells": [
  {
   "cell_type": "markdown",
   "id": "cc6e618e",
   "metadata": {},
   "source": [
    "#### 1.What are the two values of the Boolean data type? How do you write them?"
   ]
  },
  {
   "cell_type": "markdown",
   "id": "2639d477",
   "metadata": {},
   "source": [
    "#### Solution:\n",
    "The Boolean data type represents a binary value, and it has only two possible values: true and false. These values are used to express logical conditions in programming and are essential for decision-making and control flow.\n",
    "\n",
    "- True: This represents the value that evaluates to true or a positive condition.In Python it is written without quotes.\n",
    "- False: This represents the value that evaluates to false or a negative condition. In Python it is written without quotes.\n",
    "\n",
    "If they are wriitn within quotes they are teared as Strings \n"
   ]
  },
  {
   "cell_type": "code",
   "execution_count": 1,
   "id": "9814ce0c",
   "metadata": {},
   "outputs": [
    {
     "data": {
      "text/plain": [
       "bool"
      ]
     },
     "execution_count": 1,
     "metadata": {},
     "output_type": "execute_result"
    }
   ],
   "source": [
    "a= True \n",
    "type(a)"
   ]
  },
  {
   "cell_type": "code",
   "execution_count": 2,
   "id": "9d101984",
   "metadata": {},
   "outputs": [
    {
     "data": {
      "text/plain": [
       "bool"
      ]
     },
     "execution_count": 2,
     "metadata": {},
     "output_type": "execute_result"
    }
   ],
   "source": [
    "b= False\n",
    "type(b)"
   ]
  },
  {
   "cell_type": "code",
   "execution_count": 3,
   "id": "cff6d70a",
   "metadata": {},
   "outputs": [
    {
     "data": {
      "text/plain": [
       "str"
      ]
     },
     "execution_count": 3,
     "metadata": {},
     "output_type": "execute_result"
    }
   ],
   "source": [
    "x=\"True\"\n",
    "type(x)"
   ]
  },
  {
   "cell_type": "code",
   "execution_count": 4,
   "id": "ff374dbe",
   "metadata": {},
   "outputs": [
    {
     "data": {
      "text/plain": [
       "str"
      ]
     },
     "execution_count": 4,
     "metadata": {},
     "output_type": "execute_result"
    }
   ],
   "source": [
    "y=\"False\"\n",
    "type(x)"
   ]
  },
  {
   "cell_type": "markdown",
   "id": "ce83987e",
   "metadata": {},
   "source": [
    "#### 2. What are the three different types of Boolean operators?"
   ]
  },
  {
   "cell_type": "markdown",
   "id": "e7aef66f",
   "metadata": {},
   "source": [
    "#### Solution:\n",
    "\n",
    "In Python, boolean operators are used to perform logical operations on boolean values. There are three boolean operators available in Python:\n",
    "\n",
    "1. AND operator (and): This operator returns True if both operands are True, and False otherwise.\n",
    "2. OR operator (or): This operator returns True if at least one of the operands is True, and False otherwise.\n",
    "3. NOT operator (not): This operator returns the opposite boolean value of the operand. If the operand is True, not returns False, and if the operand is False, not returns True.\n"
   ]
  },
  {
   "cell_type": "code",
   "execution_count": 59,
   "id": "e1b3909b",
   "metadata": {},
   "outputs": [
    {
     "name": "stdout",
     "output_type": "stream",
     "text": [
      "True\n",
      "False\n",
      "False\n"
     ]
    }
   ],
   "source": [
    "x = 5\n",
    "y = 10\n",
    "z = 15\n",
    "\n",
    "# AND operator\n",
    "print(x < y and y < z)  # True\n",
    "\n",
    "# OR operator\n",
    "print(x > y or y > z)  # False\n",
    "\n",
    "# NOT operator\n",
    "print(not(x < y))  # False"
   ]
  },
  {
   "cell_type": "markdown",
   "id": "d82debfb",
   "metadata": {},
   "source": [
    "#### 3. Make a list of each Boolean operator&#39;s truth tables (i.e. every possible combination of Boolean values for the operator and what it evaluate)."
   ]
  },
  {
   "cell_type": "markdown",
   "id": "e272497e",
   "metadata": {},
   "source": [
    "#### Solution:\n",
    "\n",
    "The truth table shows the result of applying each boolean operator to the given operands. For and and or, False represents False boolean value, and True represents True boolean value. For not, False represents True boolean value, and True represents False boolean value.\n",
    "\n",
    "\n",
    "| Operand 1 | Operand 2 | Operand 1 and Operand 2 | Operand 1 or Operand 2 | not Operand 1 |\n",
    "|-----------|-----------|------------------------|-----------------------|---------------|\n",
    "|   False   |   False   |         False          |         False         |     True      |\n",
    "|   False   |   True    |         False          |         True          |     True      |\n",
    "|   True    |   False   |         False          |         True          |     False     |\n",
    "|   True    |   True    |         True           |         True          |     False     |\n",
    "\n"
   ]
  },
  {
   "cell_type": "markdown",
   "id": "89cab9d1",
   "metadata": {},
   "source": [
    "#### 4. What are the values of the following expressions?\n"
   ]
  },
  {
   "cell_type": "markdown",
   "id": "30430231",
   "metadata": {},
   "source": [
    "#### Solution \n"
   ]
  },
  {
   "cell_type": "raw",
   "id": "fbef2fea",
   "metadata": {},
   "source": [
    "\n",
    "- (5 > 4) and (3 == 5) ---this will give (True) and (False) implies false \n",
    "\n",
    "- not (5 > 4)-----------this will give not (True) i.e False \n",
    "\n",
    "- (5 > 4) or (3 == 5) ---------this will give (True) or (False) i.e True \n",
    "\n",
    "- not ((5 > 4)or (3 == 5))---------this will give not((True) or (False)) i.e not(True) i.e. False\n",
    "\n",
    "- (True and True) and (True == False) -----this will give (True) and (False) i.e False\n",
    "\n",
    "-(not False) or (not True)-------this will give (True) or (False) which is True "
   ]
  },
  {
   "cell_type": "code",
   "execution_count": 61,
   "id": "4e0f02fe",
   "metadata": {},
   "outputs": [
    {
     "data": {
      "text/plain": [
       "False"
      ]
     },
     "execution_count": 61,
     "metadata": {},
     "output_type": "execute_result"
    }
   ],
   "source": [
    "(5 > 4) and (3 == 5)"
   ]
  },
  {
   "cell_type": "code",
   "execution_count": 62,
   "id": "1bf0c1a5",
   "metadata": {},
   "outputs": [
    {
     "data": {
      "text/plain": [
       "False"
      ]
     },
     "execution_count": 62,
     "metadata": {},
     "output_type": "execute_result"
    }
   ],
   "source": [
    "not (5 > 4)"
   ]
  },
  {
   "cell_type": "code",
   "execution_count": 63,
   "id": "c16d102f",
   "metadata": {},
   "outputs": [
    {
     "data": {
      "text/plain": [
       "True"
      ]
     },
     "execution_count": 63,
     "metadata": {},
     "output_type": "execute_result"
    }
   ],
   "source": [
    "(5 > 4) or (3 == 5)"
   ]
  },
  {
   "cell_type": "code",
   "execution_count": 64,
   "id": "d9f11a88",
   "metadata": {},
   "outputs": [
    {
     "data": {
      "text/plain": [
       "False"
      ]
     },
     "execution_count": 64,
     "metadata": {},
     "output_type": "execute_result"
    }
   ],
   "source": [
    "not ((5 > 4)or (3 == 5))"
   ]
  },
  {
   "cell_type": "code",
   "execution_count": 65,
   "id": "c11de286",
   "metadata": {},
   "outputs": [
    {
     "data": {
      "text/plain": [
       "False"
      ]
     },
     "execution_count": 65,
     "metadata": {},
     "output_type": "execute_result"
    }
   ],
   "source": [
    "(True and True) and (True == False) "
   ]
  },
  {
   "cell_type": "code",
   "execution_count": 66,
   "id": "61ba4377",
   "metadata": {},
   "outputs": [
    {
     "data": {
      "text/plain": [
       "True"
      ]
     },
     "execution_count": 66,
     "metadata": {},
     "output_type": "execute_result"
    }
   ],
   "source": [
    "(not False) or (not True)"
   ]
  },
  {
   "cell_type": "markdown",
   "id": "329fe468",
   "metadata": {},
   "source": [
    "#### 5. What are the six comparison operators?"
   ]
  },
  {
   "cell_type": "markdown",
   "id": "8d4f5c7c",
   "metadata": {},
   "source": [
    "#### Solution:\n",
    "\n",
    "The comparison operators are commonly used to compare values and make decisions based on the comparison results in Python.The six comparison operators in Python are:\n",
    "\n",
    "1. Equal to (==): This operator checks if the operands on both sides are equal and returns True if they are, and False otherwise.\n",
    "2. Not equal to (!=): This operator checks if the operands on both sides are not equal and returns True if they are not, and False if they are equal.\n",
    "3. Greater than (>): This operator checks if the left operand is greater than the right operand and returns True if it is, and False otherwise.\n",
    "4. Less than (<): This operator checks if the left operand is less than the right operand and returns True if it is, and False otherwise.\n",
    "5. Greater than or equal to (>=): This operator checks if the left operand is greater than or equal to the right operand and returns True if it is, and False otherwise.\n",
    "6. Less than or equal to (<=): This operator checks if the left operand is less than or equal to the right operand and returns True if it is, and False otherwise."
   ]
  },
  {
   "cell_type": "code",
   "execution_count": 58,
   "id": "f3d65c1a",
   "metadata": {},
   "outputs": [
    {
     "name": "stdout",
     "output_type": "stream",
     "text": [
      "False\n",
      "True\n",
      "True\n",
      "False\n",
      "True\n",
      "False\n"
     ]
    }
   ],
   "source": [
    "a=10\n",
    "b=9\n",
    "print(a==b)\n",
    "print(a!=b)\n",
    "print(a>b)\n",
    "print(a<b)\n",
    "print(a>=b)\n",
    "print(a<=b)"
   ]
  },
  {
   "cell_type": "markdown",
   "id": "f783bac8",
   "metadata": {},
   "source": [
    "#### 6. How do you tell the difference between the equal to and assignment operators?Describe a condition and when you would use one."
   ]
  },
  {
   "cell_type": "markdown",
   "id": "2c827d32",
   "metadata": {},
   "source": [
    "#### Solution:\n",
    "\n",
    "1. Equal To Operator (==):The equal to operator (==) is used to compare two values to check if they are equal. It returns True if the values are equal and False otherwise.This is generally used with loops in conditional statemnts \n",
    "\n",
    "2. Assignment Operator (=):The assignment operator (=) is used to assign a value to a variable.It takes the value on the right side and assigns it to the variable on the left side.\n",
    "\n"
   ]
  },
  {
   "cell_type": "code",
   "execution_count": 69,
   "id": "1443adf2",
   "metadata": {},
   "outputs": [
    {
     "name": "stdout",
     "output_type": "stream",
     "text": [
      "True\n"
     ]
    }
   ],
   "source": [
    "x=5 # assignment\n",
    "if x==5 : print (\"True\") # # conditional /comparison"
   ]
  },
  {
   "cell_type": "markdown",
   "id": "e44e7c3d",
   "metadata": {},
   "source": [
    "#### 7. Identify the three blocks in this code:\n"
   ]
  },
  {
   "cell_type": "raw",
   "id": "f75ce6d0",
   "metadata": {},
   "source": [
    "spam = 0\n",
    "if spam == 10:\n",
    "    print(\"eggs\")\n",
    "if spam > 5:\n",
    "    print(\"bacon\")\n",
    "else:\n",
    "    print(\"ham\")\n",
    "    print(\"spam\")\n",
    "    print(\"spam\")"
   ]
  },
  {
   "cell_type": "markdown",
   "id": "44dcb845",
   "metadata": {},
   "source": [
    "#### Solution:\n",
    "In Python, code blocks are sections of code that are grouped together based on their indentation level. Code blocks are used to define the scope of control flow statements (such as if, while, for, def, etc.) and determine the execution order of the code.\n",
    "\n",
    "In the given example there are three blocks of code two If blocks and obe else block \n"
   ]
  },
  {
   "cell_type": "code",
   "execution_count": 71,
   "id": "5d389e9f",
   "metadata": {},
   "outputs": [
    {
     "name": "stdout",
     "output_type": "stream",
     "text": [
      "ham\n",
      "spam\n",
      "spam\n"
     ]
    }
   ],
   "source": [
    "spam = 0\n",
    "    #block 1\n",
    "if spam == 10:\n",
    "    print(\"eggs\")\n",
    "    #block 2 \n",
    "if spam > 5:\n",
    "    print(\"bacon\")\n",
    "    #block 3 \n",
    "else:\n",
    "    print(\"ham\")\n",
    "    print(\"spam\")\n",
    "    print(\"spam\")"
   ]
  },
  {
   "cell_type": "markdown",
   "id": "8b6828fb",
   "metadata": {},
   "source": [
    "#### 8. Write code that prints Hello if 1 is stored in spam, prints Howdy if 2 is stored in spam, and prints Greetings! if anything else is stored in spam."
   ]
  },
  {
   "cell_type": "markdown",
   "id": "9f0c11a0",
   "metadata": {},
   "source": [
    "#### Solution :\n"
   ]
  },
  {
   "cell_type": "code",
   "execution_count": 53,
   "id": "bcbeacde",
   "metadata": {},
   "outputs": [
    {
     "name": "stdout",
     "output_type": "stream",
     "text": [
      "enter spam value: 2\n",
      "Howdy\n"
     ]
    }
   ],
   "source": [
    "spam =int(input(\"enter spam value: \"))\n",
    "if (spam==1):\n",
    "    print(\"hello\")\n",
    "elif (spam == 2):\n",
    "    print(\"Howdy\")\n",
    "else :\n",
    "    print(\"Greetings\")\n",
    "    "
   ]
  },
  {
   "cell_type": "markdown",
   "id": "58bc962b",
   "metadata": {},
   "source": [
    "#### 9.If your programme is stuck in an endless loop, what keys you’ll press?"
   ]
  },
  {
   "cell_type": "markdown",
   "id": "5c37623c",
   "metadata": {},
   "source": [
    "#### Solution \n",
    "\n",
    "\n",
    "If a Python program is stuck in an endless loop and you want to interrupt or stop its execution, you can press the following key combination:\n",
    "\n",
    "Ctrl + C\n",
    "\n",
    "Pressing Ctrl + C (the Control key and the C key together) is a common way to send an interrupt signal to the running program. This key combination is typically used to terminate the execution of a program that is stuck or taking longer than expected to complete.\n",
    "\n",
    "When you press Ctrl + C, the program will receive a KeyboardInterrupt signal, which allows it to catch the signal and handle it gracefully, such as by terminating the loop or exiting the program."
   ]
  },
  {
   "cell_type": "raw",
   "id": "dc852da2",
   "metadata": {},
   "source": [
    "\"\"\"\n",
    "example of endless loop this can be interrupted by pressing ctrl+c or clicking on interrupting the kernel if you are using jupyter notebook \n",
    "\"\"\" \n",
    "\n",
    "x=1\n",
    "while x=1 :\n",
    "\n",
    "Print(\"Hello\")"
   ]
  },
  {
   "cell_type": "markdown",
   "id": "0d5384ad",
   "metadata": {},
   "source": [
    "#### 10. How can you tell the difference between break and continue?"
   ]
  },
  {
   "cell_type": "markdown",
   "id": "34247f84",
   "metadata": {},
   "source": [
    "#### Solution :\n",
    "\n",
    "In Python, break and continue are two different control flow statements used within loops to alter the flow of execution. Here's the difference between break and continue:\n",
    "\n",
    "1. break statement: When break is encountered within a loop (such as for or while), it immediately terminates the loop and resumes execution at the next statement after the loop. It effectively \"breaks out\" of the loop and skips any remaining iterations.\n",
    "\n",
    "2. continue statement: When continue is encountered within a loop, it immediately stops the current iteration and moves on to the next iteration of the loop. It effectively \"skips\" the remaining code within the loop for the current iteration."
   ]
  },
  {
   "cell_type": "code",
   "execution_count": 14,
   "id": "b6e3a06f",
   "metadata": {},
   "outputs": [
    {
     "name": "stdout",
     "output_type": "stream",
     "text": [
      "1\n",
      "3\n",
      "5\n",
      "7\n"
     ]
    }
   ],
   "source": [
    "# break and continue example \n",
    "for x in range(11):\n",
    "    if (x%2==0):\n",
    "        continue # continue statemnt will help skip even nos \n",
    "    if (x==9):\n",
    "        break # break will stop loop at 9\n",
    "    print(x)\n",
    "        "
   ]
  },
  {
   "cell_type": "markdown",
   "id": "67cf9260",
   "metadata": {},
   "source": [
    "#### 11. In a for loop, what is the difference between range(10), range(0, 10), and range(0, 10, 1)?"
   ]
  },
  {
   "cell_type": "markdown",
   "id": "7943c341",
   "metadata": {},
   "source": [
    "In a for loop, the functions range(10), range(0, 10), and range(0, 10, 1) all generate a sequence of numbers that can be used to iterate over. However, there are subtle differences in the way they are defined.\n",
    "\n",
    "1. range(10): This form of range starts the sequence from 0 (by default) and generates numbers up to, but not including, the specified value (10 in this case). It increments by 1 for each value in the sequence.\n",
    "\n",
    "2. range(0, 10): This form of range allows you to explicitly specify the start and end values of the sequence. It generates numbers starting from the specified start value (0 in this case) and goes up to, but not including, the specified end value (10 in this case). It increments by 1 for each value in the sequence. The output is the same as range(10)\n",
    "\n",
    "3. range(0, 10, 1): This form of range allows you to specify the start, end, and step values for the sequence. It generates numbers starting from the specified start value (0 in this case), up to, but not including, the specified end value (10 in this case), incrementing by the specified step value (1 in this case)."
   ]
  },
  {
   "cell_type": "code",
   "execution_count": 15,
   "id": "b4b70e16",
   "metadata": {},
   "outputs": [
    {
     "name": "stdout",
     "output_type": "stream",
     "text": [
      "0\n",
      "1\n",
      "2\n",
      "3\n",
      "4\n",
      "5\n",
      "6\n",
      "7\n",
      "8\n",
      "9\n"
     ]
    }
   ],
   "source": [
    "#range example \n",
    "# single argument assumes intaial i vlaue to be 0 \n",
    "for i in range (10):\n",
    "    print(i)"
   ]
  },
  {
   "cell_type": "code",
   "execution_count": 17,
   "id": "dd379344",
   "metadata": {},
   "outputs": [
    {
     "name": "stdout",
     "output_type": "stream",
     "text": [
      "3\n",
      "4\n",
      "5\n",
      "6\n",
      "7\n",
      "8\n",
      "9\n"
     ]
    }
   ],
   "source": [
    "#double argument can be used to give inital and final values\n",
    "for i in range (3,10):\n",
    "    print(i)"
   ]
  },
  {
   "cell_type": "code",
   "execution_count": 19,
   "id": "e83cb329",
   "metadata": {},
   "outputs": [
    {
     "name": "stdout",
     "output_type": "stream",
     "text": [
      "3\n",
      "5\n",
      "7\n",
      "9\n"
     ]
    }
   ],
   "source": [
    "# third argument specifies the steps to jump b/w two values \n",
    "for i in range (3,10,2):\n",
    "    print(i)"
   ]
  },
  {
   "cell_type": "markdown",
   "id": "00235af4",
   "metadata": {},
   "source": [
    "#### 12. Write a short program that prints the numbers 1 to 10 using a for loop. Then write an equivalent program that prints the numbers 1 to 10 using a while loop."
   ]
  },
  {
   "cell_type": "markdown",
   "id": "2215a4eb",
   "metadata": {},
   "source": [
    "#### Solution"
   ]
  },
  {
   "cell_type": "code",
   "execution_count": 35,
   "id": "7bd8312a",
   "metadata": {},
   "outputs": [
    {
     "name": "stdout",
     "output_type": "stream",
     "text": [
      "1\n",
      "2\n",
      "3\n",
      "4\n",
      "5\n",
      "6\n",
      "7\n",
      "8\n",
      "9\n",
      "10\n"
     ]
    }
   ],
   "source": [
    "# using for loop \n",
    "for i in range (1,11):print(i)"
   ]
  },
  {
   "cell_type": "code",
   "execution_count": 37,
   "id": "b002bdb1",
   "metadata": {},
   "outputs": [
    {
     "name": "stdout",
     "output_type": "stream",
     "text": [
      "1\n",
      "2\n",
      "3\n",
      "4\n",
      "5\n",
      "6\n",
      "7\n",
      "8\n",
      "9\n",
      "10\n"
     ]
    }
   ],
   "source": [
    "#using while \n",
    "x=1\n",
    "while x in range(1,11) :\n",
    "    print (x) \n",
    "    x=x+1\n",
    "    "
   ]
  },
  {
   "cell_type": "markdown",
   "id": "dd444c4c",
   "metadata": {},
   "source": [
    "#### 13. If you had a function named bacon() inside a module named spam, how would you call it after importing spam?"
   ]
  },
  {
   "cell_type": "markdown",
   "id": "3ec145fd",
   "metadata": {},
   "source": [
    "#### Solution :\n",
    "if bacon() will be be predefined function in the module spam.\n",
    "After importing the \"spam\" module in Python, we can call the \"bacon()\" function from the \"spam\" module using dot oerator \n"
   ]
  },
  {
   "cell_type": "raw",
   "id": "3089e990",
   "metadata": {},
   "source": [
    "import spam \n",
    "spam.bacon()"
   ]
  }
 ],
 "metadata": {
  "kernelspec": {
   "display_name": "Python 3 (ipykernel)",
   "language": "python",
   "name": "python3"
  },
  "language_info": {
   "codemirror_mode": {
    "name": "ipython",
    "version": 3
   },
   "file_extension": ".py",
   "mimetype": "text/x-python",
   "name": "python",
   "nbconvert_exporter": "python",
   "pygments_lexer": "ipython3",
   "version": "3.10.9"
  }
 },
 "nbformat": 4,
 "nbformat_minor": 5
}
