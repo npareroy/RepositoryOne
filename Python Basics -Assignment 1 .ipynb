{
 "cells": [
  {
   "cell_type": "markdown",
   "id": "d7c00bd9",
   "metadata": {},
   "source": [
    "#### 1. In the below elements which of them are values or an expression? eg:- values can be integer or string and expressions will be mathematical operators.\n",
    "* \n",
    "'hello',-87.8,-,/,+,6 \n"
   ]
  },
  {
   "cell_type": "markdown",
   "id": "f3f3222d",
   "metadata": {},
   "source": [
    "#### -Solution:\n",
    "- 'hello'---- string value \n",
    "- 87.8 ---- float value \n",
    "- '-' ----subtraction operator \n",
    "- '/'---- division operator \n",
    "- '+' ---- addition operator \n",
    "- 6 ---- integer value "
   ]
  },
  {
   "cell_type": "markdown",
   "id": "ff379754",
   "metadata": {},
   "source": [
    "#### 2. What is the difference between string and variable?\n"
   ]
  },
  {
   "cell_type": "markdown",
   "id": "feddbe16",
   "metadata": {},
   "source": [
    "#### -Solution:\n",
    "\n",
    "- String: A string is a specific data type used to represent a sequence of characters. It is typically used to store textual information such as names, sentences, or any other combination of characters. In programming, strings are often enclosed in quotation marks (either single or double) to indicate that they are string literals. Examples of strings include \"Hello, World!\", \"John Smith\", or \"OpenAI\".\n",
    "<br>\n",
    "\n",
    "- Variable: A variable is a symbolic name that represents a value stored in computer memory. It serves as a container for holding different types of data, including strings. Variables are used to store and manipulate data during program execution. They can be assigned different values and can change throughout the execution of a program. For example, you can declare a variable called \"name\" and assign it the string value \"John\". Later in the program, you can modify the variable's value, such as changing it to \"Emily\"."
   ]
  },
  {
   "cell_type": "markdown",
   "id": "05e1b44d",
   "metadata": {},
   "source": [
    "\n",
    "#### 3. Describe three different data types.\n"
   ]
  },
  {
   "cell_type": "markdown",
   "id": "dd95b198",
   "metadata": {},
   "source": [
    "#### -Solution:\n",
    "In Python, there are several built-in data types that are commonly used to represent different kinds of values. Here are some of the fundamental data types in Python:\n",
    "\n",
    "1. Numeric Types:\n",
    "  - int: Represents integer values, such as 1, -5, or 100.\n",
    "  - float: Represents floating-point or decimal values, such as 3.14, -0.5, or 2.0.\n",
    "2. String Type:\n",
    "  - str: Represents a sequence of characters, enclosed in single ('') or double (\"\") quotes. For example, \"Hello, World!\" or 'Python'.\n",
    "3. Boolean Type: \n",
    " - bool: Represents a logical value that can be either True or False. Booleans are often used in conditional statements and logical operations."
   ]
  },
  {
   "cell_type": "code",
   "execution_count": 10,
   "id": "744d3e9e",
   "metadata": {},
   "outputs": [],
   "source": [
    "#integer example \n",
    "a=50 \n",
    "# float example \n",
    "b= 1.5\n",
    "#string example \n",
    "name =\"Catherine\"\n",
    "sex ='Female'\n",
    "#boolen example \n",
    "account_activate=True "
   ]
  },
  {
   "cell_type": "markdown",
   "id": "7a199211",
   "metadata": {},
   "source": [
    "#### 4. What is an expression made up of? What do all expressions do?"
   ]
  },
  {
   "cell_type": "markdown",
   "id": "90cec27c",
   "metadata": {},
   "source": [
    "#### -Solution:\n",
    "\n",
    "<strong>In Python, an expression is a combination of values, variables, operators, and function calls that can be evaluated to produce a resulting value.Here are the key components that can make up an expression<strong/>\n",
    "\n",
    "1.Values: Values are the simplest form of expressions. They can be numeric literals (e.g., 5, 3.14) or string literals (e.g., \"Hello\", 'Python').\n",
    "\n",
    "2.Variables: Variables are symbolic names that represent values. They can be used in expressions to refer to the data they hold. For example, if you have a variable named \"x,\" you can include it in an expression like 2 * x to perform calculations.\n",
    "\n",
    "3.Operators: Operators are symbols that perform specific operations on one or more values. Python supports various types of operators, including arithmetic operators (+, -, *, /), comparison operators (==, >, <), logical operators (and, or, not), and more. Operators allow you to combine values and variables in expressions to perform computations and make comparisons.\n",
    "\n",
    "4.Function Calls: Python has built-in functions, as well as user-defined functions, that can be called within expressions. Functions take input arguments and can perform complex operations or return specific results. For example, you can include a function call like len(\"Hello\") within an expression to get the length of the string \"Hello\".\n",
    "\n",
    "<strong>Expressions serve several purposes in Python:<strong/>\n",
    "    \n",
    "1.Calculation: Expressions allow you to perform calculations by combining values and applying operators. For example, 2 + 3 is an expression that evaluates to 5.\n",
    "\n",
    "2.Comparison: Expressions with comparison operators (e.g., x > 5) are used to compare values and produce a boolean result (True or False).\n",
    "\n",
    "3.Value Assignment: Expressions can be used to assign values to variables. For example, x = 10 is an expression that assigns the value 10 to the variable x.\n",
    "\n",
    "4.Function Invocation: Expressions can call functions to perform specific operations or retrieve results. The function may take arguments or return values that can be used within the expression."
   ]
  },
  {
   "cell_type": "markdown",
   "id": "3e122868",
   "metadata": {},
   "source": [
    "#### 5. This assignment statements, like spam = 10. What is the difference between an expression and a statement?"
   ]
  },
  {
   "cell_type": "markdown",
   "id": "4ed4963f",
   "metadata": {},
   "source": [
    "- Expression:\n",
    "An expression is a combination of values, variables, operators, and function calls that can be evaluated to produce a result. It represents a computation or calculation that yields a value. Expressions can be as simple as a single variable or as complex as a multi-level nested combination of operations.Expressions can be used in various contexts, such as assignments, function arguments, or as part of larger expressions.\n",
    "\n",
    "<br>\n",
    "Here are some examples of expressions in Python:\n"
   ]
  },
  {
   "cell_type": "code",
   "execution_count": null,
   "id": "e470ea8b",
   "metadata": {},
   "outputs": [],
   "source": [
    "5 + 3 (addition)\n",
    "x * y (multiplication of variables)\n",
    "my_function(10) (function call)\n",
    "3 > 1 (comparison)"
   ]
  },
  {
   "cell_type": "markdown",
   "id": "9efb7612",
   "metadata": {},
   "source": [
    "- Statement:\n",
    "A statement is a unit of code that performs an action or has some effect. It is a complete instruction that Python can execute. Unlike expressions, statements do not produce a value directly. They may change the state of a program by assigning values, controlling flow, or defining structures.Statements are used to control the flow of execution, define functions and classes, handle exceptions, and perform other operations that affect the program's behavior.\n",
    "\n",
    "<br>\n",
    "  Here are some examples of statements in Python:"
   ]
  },
  {
   "cell_type": "code",
   "execution_count": null,
   "id": "7da452c6",
   "metadata": {},
   "outputs": [],
   "source": [
    "x = 5 (assignment)\n",
    "if condition: ... (conditional statement)\n",
    "while condition: ... (loop statement)\n",
    "def my_function(): ... (function definition)\n",
    "return result (return statement)"
   ]
  },
  {
   "cell_type": "markdown",
   "id": "a2dc42a3",
   "metadata": {},
   "source": [
    "#### 6. After running the following code, what does the variable bacon contain?\n",
    "bacon = 22\n",
    "bacon + 1\n"
   ]
  },
  {
   "cell_type": "markdown",
   "id": "160d0cf0",
   "metadata": {},
   "source": [
    "#### -Solution:  \n",
    "\n",
    "The value of bacon will not change since value (bacon+1) is not reassigned to bacon "
   ]
  },
  {
   "cell_type": "code",
   "execution_count": 9,
   "id": "719a0edf",
   "metadata": {},
   "outputs": [
    {
     "data": {
      "text/plain": [
       "22"
      ]
     },
     "execution_count": 9,
     "metadata": {},
     "output_type": "execute_result"
    }
   ],
   "source": [
    "bacon = 22\n",
    "bacon + 1\n",
    "bacon"
   ]
  },
  {
   "cell_type": "code",
   "execution_count": 10,
   "id": "86f76277",
   "metadata": {},
   "outputs": [
    {
     "data": {
      "text/plain": [
       "6"
      ]
     },
     "execution_count": 10,
     "metadata": {},
     "output_type": "execute_result"
    }
   ],
   "source": [
    "# reassignment value to back to the variable will change the value \n",
    "a=5\n",
    "a=5+1\n",
    "a"
   ]
  },
  {
   "cell_type": "markdown",
   "id": "811f6ec3",
   "metadata": {},
   "source": [
    "#### 7. What should the values of the following two terms be?\n"
   ]
  },
  {
   "cell_type": "markdown",
   "id": "00ab01a9",
   "metadata": {},
   "source": [
    "#### -Solution: \n",
    "\n",
    "Python supports '+' operator for string concatenation so the first option will concatenate thetwo strings. Python also supports multiplication of a string with interger to create multiple copies of the string using * operator. So the second option will also give the same result."
   ]
  },
  {
   "cell_type": "code",
   "execution_count": 20,
   "id": "5e44ea3a",
   "metadata": {},
   "outputs": [
    {
     "data": {
      "text/plain": [
       "'spamspamspam'"
      ]
     },
     "execution_count": 20,
     "metadata": {},
     "output_type": "execute_result"
    }
   ],
   "source": [
    "'spam' + 'spamspam'\n",
    "\n"
   ]
  },
  {
   "cell_type": "code",
   "execution_count": 21,
   "id": "ba2d4559",
   "metadata": {},
   "outputs": [
    {
     "data": {
      "text/plain": [
       "'spamspamspam'"
      ]
     },
     "execution_count": 21,
     "metadata": {},
     "output_type": "execute_result"
    }
   ],
   "source": [
    "'spam' * 3"
   ]
  },
  {
   "cell_type": "markdown",
   "id": "58e28a0c",
   "metadata": {},
   "source": [
    "#### 8. Why is eggs a valid variable name while 100 is invalid?\n"
   ]
  },
  {
   "cell_type": "markdown",
   "id": "90beae0a",
   "metadata": {},
   "source": [
    "#### -Solution:\n",
    " \n",
    "An identifier is a name given to entities like class, functions, variables, etc. It helps to differentiate one entity from another. Identifiers can be a combination of letters in lowercase (a to z) or uppercase (A to Z) or digits (0 to 9) or an underscore (_). They must start with a letter or the underscore character, but not with a digit.Also Python keywords cannot be used as identifiers. So 'eggs' is not an keyword and doesnot start with number hence it is valid variable name whereas '100' is a number  and cannot be used as an identifier "
   ]
  },
  {
   "cell_type": "code",
   "execution_count": 25,
   "id": "dd4c15ba",
   "metadata": {},
   "outputs": [],
   "source": [
    "eggs =100"
   ]
  },
  {
   "cell_type": "code",
   "execution_count": 31,
   "id": "f08f8994",
   "metadata": {},
   "outputs": [
    {
     "ename": "SyntaxError",
     "evalue": "cannot assign to literal here. Maybe you meant '==' instead of '='? (745809784.py, line 1)",
     "output_type": "error",
     "traceback": [
      "\u001b[1;36m  Cell \u001b[1;32mIn[31], line 1\u001b[1;36m\u001b[0m\n\u001b[1;33m    100 = 'Maya'\u001b[0m\n\u001b[1;37m    ^\u001b[0m\n\u001b[1;31mSyntaxError\u001b[0m\u001b[1;31m:\u001b[0m cannot assign to literal here. Maybe you meant '==' instead of '='?\n"
     ]
    }
   ],
   "source": [
    "100 = 'Maya'"
   ]
  },
  {
   "cell_type": "markdown",
   "id": "c1a0895d",
   "metadata": {},
   "source": [
    "#### 9. What three functions can be used to get the integer, floating-point number, or string version of a value?"
   ]
  },
  {
   "cell_type": "markdown",
   "id": "bcd28e0d",
   "metadata": {},
   "source": [
    "#### -Solution \n",
    "\n",
    "1.The int() function is used to convert a value to an integer type. It truncates any decimal places and returns the whole number portion of the value.\n",
    "\n",
    "2.The float() function is used to convert a value to a floating-point number type. It adds a decimal point and zero digits to the right of the decimal if necessary.\n",
    "\n",
    "3.The str() function is used to convert a value to a string type. It returns the textual representation of the value as a string.\n"
   ]
  },
  {
   "cell_type": "code",
   "execution_count": null,
   "id": "e8e9776b",
   "metadata": {},
   "outputs": [],
   "source": [
    "#example let us consider value 22.3\n"
   ]
  },
  {
   "cell_type": "code",
   "execution_count": 34,
   "id": "64e2d72c",
   "metadata": {},
   "outputs": [
    {
     "data": {
      "text/plain": [
       "22"
      ]
     },
     "execution_count": 34,
     "metadata": {},
     "output_type": "execute_result"
    }
   ],
   "source": [
    "int(22.3)"
   ]
  },
  {
   "cell_type": "code",
   "execution_count": 38,
   "id": "a7bcb2cd",
   "metadata": {},
   "outputs": [
    {
     "data": {
      "text/plain": [
       "22.3"
      ]
     },
     "execution_count": 38,
     "metadata": {},
     "output_type": "execute_result"
    }
   ],
   "source": [
    "float(22.3)"
   ]
  },
  {
   "cell_type": "code",
   "execution_count": 42,
   "id": "8ee86ff5",
   "metadata": {},
   "outputs": [
    {
     "data": {
      "text/plain": [
       "'22.3'"
      ]
     },
     "execution_count": 42,
     "metadata": {},
     "output_type": "execute_result"
    }
   ],
   "source": [
    "str(22.3)"
   ]
  },
  {
   "cell_type": "markdown",
   "id": "e76c4ed8",
   "metadata": {},
   "source": [
    "#### 10. Why does this expression cause an error? How can you fix it?\n",
    "\n",
    "'I have eaten ' + 99 + ' burritos.'\n"
   ]
  },
  {
   "cell_type": "markdown",
   "id": "fc2d6ac8",
   "metadata": {},
   "source": [
    "#### -Solution \n",
    "\n",
    "The expression gives an error because '+' is used for string concatenation and all the value should be String.\n",
    "For numeric values '+' operator is used for arithmetic addition. \n",
    "\n",
    "<br>\n",
    "Here 99 is a number so we can convert it into str by writing '99' so the concatenation can pe performed "
   ]
  },
  {
   "cell_type": "code",
   "execution_count": 43,
   "id": "07bb7ef3",
   "metadata": {},
   "outputs": [
    {
     "ename": "TypeError",
     "evalue": "can only concatenate str (not \"int\") to str",
     "output_type": "error",
     "traceback": [
      "\u001b[1;31m---------------------------------------------------------------------------\u001b[0m",
      "\u001b[1;31mTypeError\u001b[0m                                 Traceback (most recent call last)",
      "Cell \u001b[1;32mIn[43], line 1\u001b[0m\n\u001b[1;32m----> 1\u001b[0m \u001b[38;5;124;43m'\u001b[39;49m\u001b[38;5;124;43mI have eaten \u001b[39;49m\u001b[38;5;124;43m'\u001b[39;49m\u001b[43m \u001b[49m\u001b[38;5;241;43m+\u001b[39;49m\u001b[43m \u001b[49m\u001b[38;5;241;43m99\u001b[39;49m \u001b[38;5;241m+\u001b[39m \u001b[38;5;124m'\u001b[39m\u001b[38;5;124m burritos.\u001b[39m\u001b[38;5;124m'\u001b[39m\n",
      "\u001b[1;31mTypeError\u001b[0m: can only concatenate str (not \"int\") to str"
     ]
    }
   ],
   "source": [
    "'I have eaten ' + 99 + ' burritos.'"
   ]
  },
  {
   "cell_type": "code",
   "execution_count": 44,
   "id": "c0822e32",
   "metadata": {},
   "outputs": [
    {
     "data": {
      "text/plain": [
       "'I have eaten 99 burritos.'"
      ]
     },
     "execution_count": 44,
     "metadata": {},
     "output_type": "execute_result"
    }
   ],
   "source": [
    "'I have eaten ' + '99' + ' burritos.'"
   ]
  }
 ],
 "metadata": {
  "kernelspec": {
   "display_name": "Python 3 (ipykernel)",
   "language": "python",
   "name": "python3"
  },
  "language_info": {
   "codemirror_mode": {
    "name": "ipython",
    "version": 3
   },
   "file_extension": ".py",
   "mimetype": "text/x-python",
   "name": "python",
   "nbconvert_exporter": "python",
   "pygments_lexer": "ipython3",
   "version": "3.10.9"
  }
 },
 "nbformat": 4,
 "nbformat_minor": 5
}
