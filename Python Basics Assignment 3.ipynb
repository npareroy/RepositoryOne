{
 "cells": [
  {
   "cell_type": "markdown",
   "id": "57c13316",
   "metadata": {},
   "source": [
    "#### 1. Why are functions advantageous to have in your programs?"
   ]
  },
  {
   "cell_type": "markdown",
   "id": "63680923",
   "metadata": {},
   "source": [
    "#### -Solution\n",
    "\n",
    "Functions are advantageous to have in programs for several reasons:\n",
    "\n",
    "1. Code Reusability: Functions allow you to write a block of code once and reuse it multiple times throughout your program or even in different programs. This reduces code duplication, making the codebase cleaner, easier to manage, and less prone to errors.\n",
    "\n",
    "2. Modularity: Functions break down a program into smaller, more manageable pieces, each responsible for a specific task. This modular approach makes it easier to understand, maintain, and update the code, as changes in one function won't affect others as long as the interface remains the same.\n",
    "\n",
    "3. Abstraction: Functions can be thought of as black boxes that perform specific operations without revealing their internal details. This abstraction simplifies the overall program, as you can use a function without needing to understand how it's implemented.\n",
    "\n",
    "4. Readability: Well-named functions can serve as a form of documentation, making the code more self-explanatory. They help in understanding the purpose and functionality of the code at a higher level without diving into implementation details.\n",
    "\n",
    "5. Testing and Debugging: Functions make it easier to isolate and test specific parts of the code. By testing individual functions, you can ensure they work correctly before assembling them into the larger program. If an issue arises, you can focus on debugging that particular function, rather than the entire program.\n",
    "\n",
    "6. Team Collaboration: In larger projects, different team members can work on different functions independently, promoting parallel development. As long as the functions' interfaces are well-defined, integration of various components becomes more straightforward.\n",
    "\n",
    "7. Scoping: Functions introduce variable scope, meaning variables defined within a function are not accessible outside of it, and vice versa. This helps prevent naming conflicts and improves the overall structure of the program.\n",
    "\n",
    "8. Performance Optimization: Functions allow for the organization and optimization of code. By breaking down a complex algorithm into smaller functions, you can identify bottlenecks and optimize specific sections for better performance."
   ]
  },
  {
   "cell_type": "markdown",
   "id": "c1eef629",
   "metadata": {},
   "source": [
    "#### 2. When does the code in a function run: when it&#39;s specified or when it&#39;s called?"
   ]
  },
  {
   "cell_type": "markdown",
   "id": "a944d4fd",
   "metadata": {},
   "source": [
    "#### -Solution\n",
    "\n",
    "The code in a function runs when the function is called, not when it's specified or defined. When you define a function, you are essentially creating a reusable block of code with a specific name and set of parameters. The actual execution of the code inside the function occurs only when the function is called or invoked elsewhere in the program."
   ]
  },
  {
   "cell_type": "markdown",
   "id": "cd198c10",
   "metadata": {},
   "source": [
    "#### 3. What statement creates a function?"
   ]
  },
  {
   "cell_type": "markdown",
   "id": "266e4da9",
   "metadata": {},
   "source": [
    "#### -Solution:\n",
    "\n",
    "In Python the keyword used to create a function is typically called \"def\" (short for \"define\") along with below syntax\n"
   ]
  },
  {
   "cell_type": "raw",
   "id": "2dedecc1",
   "metadata": {},
   "source": [
    "def function_name(parameters):\n",
    "    # Function code block\n",
    "    # ...\n",
    "    return result  # Optional return statement<li/>"
   ]
  },
  {
   "cell_type": "markdown",
   "id": "903e5b3c",
   "metadata": {},
   "source": [
    "#### 4. What is the difference between a function and a function call?"
   ]
  },
  {
   "cell_type": "markdown",
   "id": "aec5ee36",
   "metadata": {},
   "source": [
    "#### -Solution:\n",
    "\n",
    "The key difference between a function and a function call is that a function is a block of code that defines the behavior, whereas a function call is an action that invokes the function to execute that defined behavior with specific input values.\n",
    "\n",
    "- Function: A function is a block of reusable code that performs a specific task. It is defined using the def keyword, followed by the function name, a set of parentheses that may contain parameters (input values), and a colon. The code inside the function is indented, forming the function body. Functions can optionally return a value using the return statement.\n",
    "\n",
    "- Function Call: A function call is the action of invoking or executing a function. When you want to use the functionality of a function, you call it by using its name followed by parentheses, optionally passing arguments (values) inside the parentheses. The function call triggers the execution of the code inside the function, and any return value (if specified) is passed back to the calling code."
   ]
  },
  {
   "cell_type": "code",
   "execution_count": 10,
   "id": "ee25e2f3",
   "metadata": {},
   "outputs": [],
   "source": [
    "# function definition example \n",
    "def concat_string(str1, str2) :\n",
    "    print(\"new string --\" + (str1+str2))\n",
    "    return\n",
    "    "
   ]
  },
  {
   "cell_type": "code",
   "execution_count": 11,
   "id": "eda80f24",
   "metadata": {},
   "outputs": [
    {
     "name": "stdout",
     "output_type": "stream",
     "text": [
      "new string --batman\n"
     ]
    }
   ],
   "source": [
    "# function call\n",
    "\n",
    "concat_string(\"bat\",\"man\")"
   ]
  },
  {
   "cell_type": "markdown",
   "id": "52b86cf6",
   "metadata": {},
   "source": [
    "#### 5. How many global scopes are there in a Python program? How many local scopes?"
   ]
  },
  {
   "cell_type": "markdown",
   "id": "7d2b3cc0",
   "metadata": {},
   "source": [
    "#### -Solution:\n",
    "In a Python program, there is only one global scope, and it exists throughout the entire program. The global scope is the top-level scope where variables defined outside any function or class are stored. Variables defined in the global scope can be accessed from any part of the program, including within functions and classes.\n",
    "\n",
    "On the other hand, the number of local scopes in a Python program can vary and depends on the number of functions and blocks within functions that define variables. Each function call creates its own local scope, and any variables defined within that function are limited to that specific scope. These variables are known as local variables and are only accessible within the function where they are defined."
   ]
  },
  {
   "cell_type": "code",
   "execution_count": 31,
   "id": "f6576062",
   "metadata": {},
   "outputs": [],
   "source": [
    "# local global example \n",
    "\n",
    "#global variable country\n",
    "country = \"India\" \n",
    "\n",
    "def maharshtra (city):\n",
    "    #local variable state and city \n",
    "    state = \"MH\" \n",
    "    city = city \n",
    "    return city,state ,country\n",
    "\n",
    "\n",
    "def karnataka (city):\n",
    "    # local variable state and city \n",
    "    state = \"KA\" \n",
    "    city = city \n",
    "    return city,state ,country"
   ]
  },
  {
   "cell_type": "code",
   "execution_count": 32,
   "id": "9c614bdc",
   "metadata": {},
   "outputs": [
    {
     "data": {
      "text/plain": [
       "('mumbai', 'MH', 'India')"
      ]
     },
     "execution_count": 32,
     "metadata": {},
     "output_type": "execute_result"
    }
   ],
   "source": [
    "maharshtra(\"mumbai\")"
   ]
  },
  {
   "cell_type": "code",
   "execution_count": 34,
   "id": "008104d3",
   "metadata": {},
   "outputs": [
    {
     "data": {
      "text/plain": [
       "('banglore', 'KA', 'India')"
      ]
     },
     "execution_count": 34,
     "metadata": {},
     "output_type": "execute_result"
    }
   ],
   "source": [
    "karnataka(\"banglore\")"
   ]
  },
  {
   "cell_type": "code",
   "execution_count": 35,
   "id": "56ce3144",
   "metadata": {},
   "outputs": [
    {
     "data": {
      "text/plain": [
       "'India'"
      ]
     },
     "execution_count": 35,
     "metadata": {},
     "output_type": "execute_result"
    }
   ],
   "source": [
    "# country is a global varaible and hence can be directly accessed \n",
    "country"
   ]
  },
  {
   "cell_type": "code",
   "execution_count": 36,
   "id": "b01b2771",
   "metadata": {},
   "outputs": [
    {
     "ename": "NameError",
     "evalue": "name 'city' is not defined",
     "output_type": "error",
     "traceback": [
      "\u001b[1;31m---------------------------------------------------------------------------\u001b[0m",
      "\u001b[1;31mNameError\u001b[0m                                 Traceback (most recent call last)",
      "Cell \u001b[1;32mIn[36], line 1\u001b[0m\n\u001b[1;32m----> 1\u001b[0m \u001b[43mcity\u001b[49m\n",
      "\u001b[1;31mNameError\u001b[0m: name 'city' is not defined"
     ]
    }
   ],
   "source": [
    "# city is a local varaible and can be accessed only using function \n",
    "city"
   ]
  },
  {
   "cell_type": "markdown",
   "id": "7922b065",
   "metadata": {},
   "source": [
    "#### 6. What happens to variables in a local scope when the function call returns?"
   ]
  },
  {
   "cell_type": "markdown",
   "id": "7522d058",
   "metadata": {},
   "source": [
    "#### -Solution\n",
    "\n",
    "When a function call returns in Python, the local scope of that function is destroyed, and any variables defined within that local scope cease to exist.The memory allocated to store local variables within the function's scope is released, making it available for other parts of the program. This process is known as \"scope resolution\" or \"variable scope.\"\n",
    "\n",
    "We can refer to the example in previous question. Here city got destroyed after execution of function and hence it cannot be accessed from out side the function"
   ]
  },
  {
   "cell_type": "markdown",
   "id": "66d630bb",
   "metadata": {},
   "source": [
    "#### 7. What is the concept of a return value? Is it possible to have a return value in an expression?"
   ]
  },
  {
   "cell_type": "markdown",
   "id": "5b320a5d",
   "metadata": {},
   "source": [
    "#### -Solution:\n",
    "\n",
    "The concept of a return value in programming refers to the value that a function can send back to the point where it was called. When a function is executed, it may perform certain operations and compute a result. This result can be sent back to the caller using the return statement. The return value can be of any data type, including integers, strings, lists, dictionaries, and even custom objects.\n",
    "\n",
    "The return statement is used in a function to specify the value that the function should return. When the function encounters a return statement, it immediately stops executing and returns the specified value (if any) to the caller. If there is no return statement in a function or the function reaches the end without encountering a return statement, it implicitly returns None."
   ]
  },
  {
   "cell_type": "code",
   "execution_count": 37,
   "id": "f2f9db27",
   "metadata": {},
   "outputs": [
    {
     "data": {
      "text/plain": [
       "81"
      ]
     },
     "execution_count": 37,
     "metadata": {},
     "output_type": "execute_result"
    }
   ],
   "source": [
    "#example\n",
    "def square(i):\n",
    "    return i ** 2\n",
    "\n",
    "square(9)\n"
   ]
  },
  {
   "cell_type": "markdown",
   "id": "93e60065",
   "metadata": {},
   "source": [
    "#### 8. If a function does not have a return statement, what is the return value of a call to that function?"
   ]
  },
  {
   "cell_type": "markdown",
   "id": "4bd4c780",
   "metadata": {},
   "source": [
    "#### -Solution\n",
    "\n",
    "If there is no return statement in a function or the function reaches the end without encountering a return statement, it implicitly returns None."
   ]
  },
  {
   "cell_type": "code",
   "execution_count": 42,
   "id": "06f184d6",
   "metadata": {},
   "outputs": [
    {
     "name": "stdout",
     "output_type": "stream",
     "text": [
      "sum of given nos is 100\n"
     ]
    }
   ],
   "source": [
    "def sum(a,b):\n",
    "    print(\"sum of given nos is \" + str(a+b))\n",
    "    \n",
    "sum(90,10)"
   ]
  },
  {
   "cell_type": "markdown",
   "id": "4d98e5df",
   "metadata": {},
   "source": [
    "#### 9. How do you make a function variable refer to the global variable?"
   ]
  },
  {
   "cell_type": "markdown",
   "id": "00da6fba",
   "metadata": {},
   "source": [
    "#### -Solution:\n",
    "\n",
    "In Python, if you want to modify a global variable inside a function, you need to use the global keyword to declare the variable as global. This tells Python that you want to work with the global variable within the function scope, rather than creating a new local variable with the same name."
   ]
  },
  {
   "cell_type": "code",
   "execution_count": 63,
   "id": "b600e1c3",
   "metadata": {},
   "outputs": [],
   "source": [
    "# example \n",
    "country = \"India\" \n",
    "\n",
    "def maharshtra (city):\n",
    "    #local variable state and city \n",
    "    state = \"MH\" \n",
    "    city = city \n",
    "    global country \n",
    "    country =\"bharat\"\n",
    "    return city,state ,country\n",
    "\n",
    "\n",
    "def karnataka (city):\n",
    "    # local variable state and city \n",
    "    state = \"KA\" \n",
    "    city = city \n",
    "    return city,state ,country"
   ]
  },
  {
   "cell_type": "code",
   "execution_count": 64,
   "id": "302d158f",
   "metadata": {},
   "outputs": [
    {
     "data": {
      "text/plain": [
       "('nagpur', 'MH', 'bharat')"
      ]
     },
     "execution_count": 64,
     "metadata": {},
     "output_type": "execute_result"
    }
   ],
   "source": [
    "# calling modified global variable \n",
    "maharshtra(\"nagpur\")"
   ]
  },
  {
   "cell_type": "code",
   "execution_count": 66,
   "id": "7ece12f7",
   "metadata": {},
   "outputs": [
    {
     "data": {
      "text/plain": [
       "('madurai', 'KA', 'bharat')"
      ]
     },
     "execution_count": 66,
     "metadata": {},
     "output_type": "execute_result"
    }
   ],
   "source": [
    "# now other methods will also refer to the new value of the global variable \n",
    "karnataka(\"madurai\")"
   ]
  },
  {
   "cell_type": "markdown",
   "id": "5d14713a",
   "metadata": {},
   "source": [
    "#### 10. What is the data type of None?"
   ]
  },
  {
   "cell_type": "markdown",
   "id": "52c438d7",
   "metadata": {},
   "source": [
    "#### -Solution:\n",
    "\n",
    "In Python, None is a special constant that represents the absence of a value or a null value. It is used to indicate that a variable or expression does not refer to any valid object or data. The data type of None is called NoneType."
   ]
  },
  {
   "cell_type": "code",
   "execution_count": 67,
   "id": "25e4ad4a",
   "metadata": {},
   "outputs": [
    {
     "data": {
      "text/plain": [
       "NoneType"
      ]
     },
     "execution_count": 67,
     "metadata": {},
     "output_type": "execute_result"
    }
   ],
   "source": [
    "x= None\n",
    "\n",
    "type(x)"
   ]
  },
  {
   "cell_type": "markdown",
   "id": "a0c53879",
   "metadata": {},
   "source": [
    "#### 11. What does the sentence import areallyourpetsnamederic do?"
   ]
  },
  {
   "cell_type": "markdown",
   "id": "1fb7c265",
   "metadata": {},
   "source": [
    "#### -Solution\n",
    "When you write an import statement like \"import areallyourpetsnamederic\" in a Python script or interactive Python environment, Python searches for a module or package with the name \"areallyourpetsnamederic.\"If such a module or package exists and can be found in the current Python path, it will be imported, allowing you to access the functions, classes, and variables defined within it.\n",
    "If there is no module or package with the specified name or it cannot be found, attempting to import it will result in an ImportError."
   ]
  },
  {
   "cell_type": "code",
   "execution_count": 5,
   "id": "ab270a5d",
   "metadata": {},
   "outputs": [
    {
     "ename": "ModuleNotFoundError",
     "evalue": "No module named 'areallyourpetsnamederic'",
     "output_type": "error",
     "traceback": [
      "\u001b[1;31m---------------------------------------------------------------------------\u001b[0m",
      "\u001b[1;31mModuleNotFoundError\u001b[0m                       Traceback (most recent call last)",
      "Cell \u001b[1;32mIn[5], line 1\u001b[0m\n\u001b[1;32m----> 1\u001b[0m \u001b[38;5;28;01mimport\u001b[39;00m \u001b[38;5;21;01mareallyourpetsnamederic\u001b[39;00m\n",
      "\u001b[1;31mModuleNotFoundError\u001b[0m: No module named 'areallyourpetsnamederic'"
     ]
    }
   ],
   "source": [
    "import areallyourpetsnamederic"
   ]
  },
  {
   "cell_type": "markdown",
   "id": "3df23ce8",
   "metadata": {},
   "source": [
    "#### 12. If you had a bacon() feature in a spam module, what would you call it after importing spam?"
   ]
  },
  {
   "cell_type": "markdown",
   "id": "4e61c99c",
   "metadata": {},
   "source": [
    "#### -Solution:\n",
    "bacon() will be be predefined function in the module spam.\n",
    "After importing the \"spam\" module in Python, we can call the \"bacon()\" function from the \"spam\" module using dot oerator \n",
    "\n"
   ]
  },
  {
   "cell_type": "raw",
   "id": "d1fa75ea",
   "metadata": {},
   "source": [
    "import spam \n",
    "spam.bacon()"
   ]
  },
  {
   "cell_type": "markdown",
   "id": "e95dcbf1",
   "metadata": {},
   "source": [
    "#### 13. What can you do to save a programme from crashing if it encounters an error?"
   ]
  },
  {
   "cell_type": "markdown",
   "id": "bd81d7f7",
   "metadata": {},
   "source": [
    "#### -Solution:\n",
    "\n",
    "To prevent a program from crashing when it encounters an error, you can use exception handling in Python. Exception handling allows you to catch and handle errors gracefully, enabling the program to continue running without abruptly terminating.\n",
    "In Python, you can use the try, except, and optionally finally blocks to implement exception handling. "
   ]
  },
  {
   "cell_type": "code",
   "execution_count": 71,
   "id": "208cd5ae",
   "metadata": {},
   "outputs": [
    {
     "name": "stdout",
     "output_type": "stream",
     "text": [
      "An error occurred: division by zero\n",
      "Program execution completed.\n"
     ]
    }
   ],
   "source": [
    "try:\n",
    "    # Code that might raise an exception goes here\n",
    "    result = 10 / 0  # An example of a potential division by zero error\n",
    "except ZeroDivisionError as e:\n",
    "    # Code to handle the specific exception goes here\n",
    "    print(\"An error occurred:\", e)\n",
    "    # You can also add code to recover from the error or take alternative actions if needed\n",
    "    # Code that executes if there is no exception goes here\n",
    "finally:\n",
    "    # Optional block for cleanup or final actions, runs regardless of whether an exception occurred or not\n",
    "    print(\"Program execution completed.\")"
   ]
  },
  {
   "cell_type": "markdown",
   "id": "74abbf69",
   "metadata": {},
   "source": [
    "#### 14. What is the purpose of the try clause? What is the purpose of the except clause?"
   ]
  },
  {
   "cell_type": "markdown",
   "id": "d8ba1ca4",
   "metadata": {},
   "source": [
    "#### -Solution"
   ]
  },
  {
   "cell_type": "markdown",
   "id": "a8de21bf",
   "metadata": {},
   "source": [
    "- Purpose of the try clause:\n",
    "The try clause is used to enclose the code that may raise an exception. It allows you to specify a block of code that you want to monitor for exceptions. If an exception occurs within the try block, the program jumps immediately to the corresponding except block (if there is one) to handle the exception. The try block is where you expect potential errors to occur.\n",
    "\n",
    "- Purpose of the except clause:\n",
    "The except clause is used to define how to handle specific exceptions that are raised in the try block. If an exception occurs in the try block and it matches the type specified in the except block, the code inside the except block is executed. The except block allows you to gracefully handle the error, log relevant information, provide user-friendly error messages, recover from the error, or take alternative actions."
   ]
  },
  {
   "cell_type": "code",
   "execution_count": 73,
   "id": "0189367d",
   "metadata": {},
   "outputs": [
    {
     "name": "stdout",
     "output_type": "stream",
     "text": [
      "Division by zero is not allowed.\n"
     ]
    }
   ],
   "source": [
    "# try except example\n",
    "try:\n",
    "    result = 10 / 0\n",
    "except ZeroDivisionError:\n",
    "    print(\"Division by zero is not allowed.\")"
   ]
  }
 ],
 "metadata": {
  "kernelspec": {
   "display_name": "Python 3 (ipykernel)",
   "language": "python",
   "name": "python3"
  },
  "language_info": {
   "codemirror_mode": {
    "name": "ipython",
    "version": 3
   },
   "file_extension": ".py",
   "mimetype": "text/x-python",
   "name": "python",
   "nbconvert_exporter": "python",
   "pygments_lexer": "ipython3",
   "version": "3.10.9"
  }
 },
 "nbformat": 4,
 "nbformat_minor": 5
}
