{
 "cells": [
  {
   "cell_type": "markdown",
   "id": "eaf34d94",
   "metadata": {},
   "source": [
    "#### Q.1. What are keywords in python? Using the keyword library, print all the python keywords."
   ]
  },
  {
   "cell_type": "markdown",
   "id": "9a8dc8bb",
   "metadata": {},
   "source": [
    "In Python, keywords are reserved words that have special meanings and purposes. These keywords cannot be used as identifiers (variable names, function names, etc.) because they are already predefined with specific functionalities in the Python language.\n",
    "It is important to note that you should not use these keywords as variable names or identifiers in your code to avoid conflicts and unexpected behavior"
   ]
  },
  {
   "cell_type": "code",
   "execution_count": 3,
   "id": "6be84ee2",
   "metadata": {},
   "outputs": [
    {
     "name": "stdout",
     "output_type": "stream",
     "text": [
      "['False', 'None', 'True', 'and', 'as', 'assert', 'async', 'await', 'break', 'class', 'continue', 'def', 'del', 'elif', 'else', 'except', 'finally', 'for', 'from', 'global', 'if', 'import', 'in', 'is', 'lambda', 'nonlocal', 'not', 'or', 'pass', 'raise', 'return', 'try', 'while', 'with', 'yield']\n"
     ]
    }
   ],
   "source": [
    "# load package\n",
    "import keyword\n",
    "\n",
    "# display all keywords\n",
    "print(keyword.kwlist)"
   ]
  },
  {
   "cell_type": "markdown",
   "id": "7938811b",
   "metadata": {},
   "source": [
    "#### Q.2. What are the rules to create variables in python?"
   ]
  },
  {
   "cell_type": "markdown",
   "id": "8e3b2cea",
   "metadata": {},
   "source": [
    "###### In Python, there are a few rules to keep in mind when creating variables:\n",
    "\n",
    "1.Variable names must be composed of letters (a-z, A-Z), digits (0-9), and underscores (_). They cannot start with a digit.\n",
    "\n",
    "2.Variable names are case-sensitive, meaning my_variable and My_Variable are considered as different variables.\n",
    "\n",
    "3.Python keywords (reserved words) cannot be used as variable names. For example, you cannot use if, for, while, or print as variable names.\n",
    "\n",
    "4.Variable names should be descriptive and meaningful, reflecting the purpose or content of the variable.\n",
    "\n",
    "5.Avoid using single-character names or overly generic names that may lead to confusion. Instead, choose descriptive names to enhance code readability.\n",
    "\n",
    "6.Variable names should not contain spaces. Instead, you can use underscores to separate words within a variable name.\n",
    "\n",
    "7.Unlimited Length: Python does not put any restriction on the length of the identifier. However, it's recommended to keep it within a reasonable size, to maintain readability and simplicity in the code.\n",
    "\n",
    "8.Private Identifiers: In Python, if the identifier starts with a single underscore, it indicates that it is a non-public part of the class, module, or function. This is just a convention and Python doesn't enforce it. If it starts with two underscores, it's a strongly private identifier. If the identifier also ends with two trailing underscores, the identifier is a language-defined special name.\n",
    "\n",
    "9.Non-ASCII Identifiers: Python 3 allows the use of non-ASCII letters in the identifiers. This means you can use letters like é, ñ, ö, я, etc. in your identifiers if you wish.\n"
   ]
  },
  {
   "cell_type": "markdown",
   "id": "daaacdeb",
   "metadata": {},
   "source": [
    "#### Q.3. What are the standards and conventions followed for the nomenclature of variables in python to improve code readability and maintainability?"
   ]
  },
  {
   "cell_type": "markdown",
   "id": "77f4ff84",
   "metadata": {},
   "source": [
    "#### Solution\n",
    "\n",
    "In Python, there are widely accepted standards and conventions for naming variables to improve code readability and maintainability. These conventions are outlined in PEP 8, the official Python style guide. Here are some key guidelines:\n",
    "\n",
    "1.Use descriptive names: Variable names should be meaningful and describe the purpose or content of the variable. This helps to make the code more readable and understandable.\n",
    "\n",
    "2.Use lowercase with underscores: Variable names should be written in lowercase letters, and words within the name should be separated by underscores (snake_case). For example: my_variable, user_name, total_count.\n",
    "\n",
    "3.Avoid single-letter names: Unless used as loop counters or indices, it is generally better to use more descriptive names than single-letter names. This enhances code readability and clarity.\n",
    "\n",
    "4.Be consistent and follow conventions: Maintain consistency throughout your codebase. If you choose a particular naming style or convention, stick to it. Consistency in naming helps make the code more cohesive and easier to understand.\n",
    "\n",
    "5.Use meaningful abbreviations: If an abbreviation is commonly known and widely understood, it can be used in variable names. However, avoid excessive or cryptic abbreviations that may make the code less readable.\n",
    "\n",
    "6.Avoid reserved words: Do not use Python keywords (reserved words) as variable names. These are words that have special meanings in Python and cannot be used as identifiers.\n",
    "\n",
    "7.Class names: For class names, use CamelCase (capitalizing the first letter of each word) convention. This is also known as PascalCase. For example: MyClass, PersonInfo.\n",
    "\n",
    "8.Constants: If a variable is intended to be a constant (a value that doesn't change), use uppercase letters and underscores to separate words. For example: MAX_SIZE, DEFAULT_COLOR.\n",
    "\n",
    "9.Avoid single leading or trailing underscores: A single leading or trailing underscore is sometimes used to indicate that a variable or method is intended for internal use within a class or module. However, it is usually best to avoid this convention unless it is specifically needed.\n",
    "\n",
    "By following these naming conventions and standards, you can make your code more consistent, readable, and maintainable"
   ]
  },
  {
   "cell_type": "markdown",
   "id": "5b8588ae",
   "metadata": {},
   "source": [
    "#### Q.4. What will happen if a keyword is used as a variable name?"
   ]
  },
  {
   "cell_type": "markdown",
   "id": "5fcd9792",
   "metadata": {},
   "source": [
    "#### Solution\n",
    "If a keyword is used as a variable name in Python, it will result in a syntax error. Python keywords are reserved and have predefined meanings within the language. They cannot be used as variable names or identifiers."
   ]
  },
  {
   "cell_type": "code",
   "execution_count": 12,
   "id": "a8d94e60",
   "metadata": {},
   "outputs": [
    {
     "ename": "SyntaxError",
     "evalue": "invalid syntax (502564441.py, line 2)",
     "output_type": "error",
     "traceback": [
      "\u001b[1;36m  Cell \u001b[1;32mIn[12], line 2\u001b[1;36m\u001b[0m\n\u001b[1;33m    for =\"same\"\u001b[0m\n\u001b[1;37m        ^\u001b[0m\n\u001b[1;31mSyntaxError\u001b[0m\u001b[1;31m:\u001b[0m invalid syntax\n"
     ]
    }
   ],
   "source": [
    "#Example\n",
    "for =\"same\"\n"
   ]
  },
  {
   "cell_type": "code",
   "execution_count": 13,
   "id": "24d3bb77",
   "metadata": {},
   "outputs": [
    {
     "ename": "SyntaxError",
     "evalue": "invalid syntax (1270679290.py, line 1)",
     "output_type": "error",
     "traceback": [
      "\u001b[1;36m  Cell \u001b[1;32mIn[13], line 1\u001b[1;36m\u001b[0m\n\u001b[1;33m    if=90\u001b[0m\n\u001b[1;37m      ^\u001b[0m\n\u001b[1;31mSyntaxError\u001b[0m\u001b[1;31m:\u001b[0m invalid syntax\n"
     ]
    }
   ],
   "source": [
    "if=90"
   ]
  },
  {
   "cell_type": "markdown",
   "id": "02307b23",
   "metadata": {},
   "source": [
    "#### Q.5. For what purpose def keyword is used?"
   ]
  },
  {
   "cell_type": "markdown",
   "id": "d50681f3",
   "metadata": {},
   "source": [
    "#### Solution:\n",
    "The def keyword in Python is used to define and create user-defined functions. Functions are blocks of reusable code that perform specific tasks. The def keyword, followed by the function name and parentheses, is the syntax used to define a function.\n",
    "\n",
    "\n"
   ]
  },
  {
   "cell_type": "code",
   "execution_count": 14,
   "id": "050a4d65",
   "metadata": {},
   "outputs": [],
   "source": [
    "def function_name(parameters):\n",
    "    # Function body - code to be executed\n",
    "    # ...\n",
    "    # Optional return statement\n",
    "    return value"
   ]
  },
  {
   "cell_type": "markdown",
   "id": "8d236f2e",
   "metadata": {},
   "source": [
    "#### Q.6. What is the operation of this special character ‘\\’?"
   ]
  },
  {
   "cell_type": "markdown",
   "id": "78e55355",
   "metadata": {},
   "source": [
    "#### Solution:\n",
    "\n",
    "The special character \\ in Python is called the backslash. It is used as an escape character and has several different operations and uses:\n",
    "\n",
    "1.Escape sequences: The backslash is used to create escape sequences that represent special characters within string literals.\n",
    "\n",
    "2.Continuation of long lines: The backslash can be used to continue a long line of code onto the next line."
   ]
  },
  {
   "cell_type": "markdown",
   "id": "405633a0",
   "metadata": {},
   "source": [
    "#### Q.7. Give an example of the following conditions:\n",
    "(i) Homogeneous list\n",
    "(ii) Heterogeneous set\n",
    "(iii) Homogeneous tuple"
   ]
  },
  {
   "cell_type": "code",
   "execution_count": 26,
   "id": "10ef9a03",
   "metadata": {},
   "outputs": [
    {
     "data": {
      "text/plain": [
       "[14, 17, 18, 19, 21, 15, 19]"
      ]
     },
     "execution_count": 26,
     "metadata": {},
     "output_type": "execute_result"
    }
   ],
   "source": [
    "#Homogeneouslist example ------considers duplicate values and are mutable \n",
    "age=[14,17,18,19,21,15,19]\n",
    "age"
   ]
  },
  {
   "cell_type": "code",
   "execution_count": 31,
   "id": "812fb45d",
   "metadata": {},
   "outputs": [
    {
     "data": {
      "text/plain": [
       "{14, 14.13, 90, 'name'}"
      ]
     },
     "execution_count": 31,
     "metadata": {},
     "output_type": "execute_result"
    }
   ],
   "source": [
    "#Heterogeneous set example ---considers unique elements and are mutable \n",
    "age={14,\"name\",14.13,90,14,\"name\"}\n",
    "age"
   ]
  },
  {
   "cell_type": "code",
   "execution_count": 34,
   "id": "0f84939f",
   "metadata": {},
   "outputs": [
    {
     "data": {
      "text/plain": [
       "(1001, 1002, 1003, 1004, 1001)"
      ]
     },
     "execution_count": 34,
     "metadata": {},
     "output_type": "execute_result"
    }
   ],
   "source": [
    "#Homogeneous tuple example------considers duplicate values but are immutable \n",
    "Class_Roll_No= (1001,1002,1003,1004,1001)\n",
    "Class_Roll_No"
   ]
  },
  {
   "cell_type": "markdown",
   "id": "e9fbc2dc",
   "metadata": {},
   "source": [
    "#### Q.8. Explain the mutable and immutable data types with proper explanation & examples."
   ]
  },
  {
   "cell_type": "markdown",
   "id": "ce1c7779",
   "metadata": {},
   "source": [
    "#### Solution:\n",
    "\n",
    "In Python, data types can be classified as mutable or immutable based on whether their values can be changed after creation. Understanding the difference between mutable and immutable data types is important as it affects how you can manipulate and modify the data.\n",
    "\n",
    "1.Mutable Data Types:\n",
    "\n",
    "- Mutable data types can be modified after creation. This means you can change the value of an individual element without creating a new object.\n",
    "- Examples of mutable data types in Python include lists, dictionaries, and sets.\n",
    "- Modifications to mutable objects happen in-place, meaning the object's memory location is not changed when its value is modified.\n",
    "\n",
    "2.Immutable Data Types:\n",
    "\n",
    "- Immutable data types, once created, cannot be modified. If you need to change the value, you must create a new object.\n",
    "- Examples of immutable data types in Python include strings, numbers (integers, floats), and tuples.\n",
    "- Modifications to immutable objects result in the creation of a new object with the updated value"
   ]
  },
  {
   "cell_type": "code",
   "execution_count": 43,
   "id": "0c838129",
   "metadata": {},
   "outputs": [
    {
     "data": {
      "text/plain": [
       "2321836845888"
      ]
     },
     "execution_count": 43,
     "metadata": {},
     "output_type": "execute_result"
    }
   ],
   "source": [
    "#mutable example \n",
    "my_list = [1, 2, 3]\n",
    "id(my_list) #----this will display memory loc of the list which should not change after changeing value \n"
   ]
  },
  {
   "cell_type": "code",
   "execution_count": 42,
   "id": "72b98ee2",
   "metadata": {},
   "outputs": [
    {
     "name": "stdout",
     "output_type": "stream",
     "text": [
      "[4, 2, 3]\n"
     ]
    },
    {
     "data": {
      "text/plain": [
       "2321816774848"
      ]
     },
     "execution_count": 42,
     "metadata": {},
     "output_type": "execute_result"
    }
   ],
   "source": [
    "my_list[0] = 4\n",
    "print(my_list)  # Output: [4, 2, 3]\n",
    "id(my_list)"
   ]
  },
  {
   "cell_type": "code",
   "execution_count": 46,
   "id": "66b56a9f",
   "metadata": {},
   "outputs": [
    {
     "data": {
      "text/plain": [
       "2321844727792"
      ]
     },
     "execution_count": 46,
     "metadata": {},
     "output_type": "execute_result"
    }
   ],
   "source": [
    "#immutable example \n",
    "my_string = \"Hello\"\n",
    "id(my_string)\n"
   ]
  },
  {
   "cell_type": "code",
   "execution_count": 49,
   "id": "09abb176",
   "metadata": {},
   "outputs": [
    {
     "name": "stdout",
     "output_type": "stream",
     "text": [
      "Hello, World!, World!, World!\n"
     ]
    },
    {
     "data": {
      "text/plain": [
       "2321844824352"
      ]
     },
     "execution_count": 49,
     "metadata": {},
     "output_type": "execute_result"
    }
   ],
   "source": [
    "my_string = my_string + \", World!\"\n",
    "print(my_string)  # Output: \"Hello, World!\"\n",
    "\n",
    "id(my_string)#---------id i.e memory loc will change when value is changed "
   ]
  },
  {
   "cell_type": "code",
   "execution_count": 50,
   "id": "9a99d70f",
   "metadata": {},
   "outputs": [
    {
     "data": {
      "text/plain": [
       "2321811694400"
      ]
     },
     "execution_count": 50,
     "metadata": {},
     "output_type": "execute_result"
    }
   ],
   "source": [
    "my_tuple = (1, 2, 3)\n",
    "id (my_tuple)\n"
   ]
  },
  {
   "cell_type": "code",
   "execution_count": 51,
   "id": "7e66b14c",
   "metadata": {},
   "outputs": [
    {
     "name": "stdout",
     "output_type": "stream",
     "text": [
      "(1, 2, 3, 4)\n"
     ]
    },
    {
     "data": {
      "text/plain": [
       "2321844814768"
      ]
     },
     "execution_count": 51,
     "metadata": {},
     "output_type": "execute_result"
    }
   ],
   "source": [
    "my_tuple = my_tuple + (4,)\n",
    "print(my_tuple)  # Output: (1, 2, 3, 4)\n",
    "id(my_tuple)"
   ]
  },
  {
   "cell_type": "markdown",
   "id": "70a7073e",
   "metadata": {},
   "source": [
    "#### Q.9. Write a code to create the given structure using only for loop.\n"
   ]
  },
  {
   "cell_type": "code",
   "execution_count": 24,
   "id": "9461bb72",
   "metadata": {},
   "outputs": [
    {
     "name": "stdout",
     "output_type": "stream",
     "text": [
      "     *\n",
      "    ***\n",
      "   *****\n",
      "  *******\n",
      " *********\n"
     ]
    }
   ],
   "source": [
    "for i in range (1,6):\n",
    "        print(\" \"*(6-i)+'*'*i+'*'*(i-1))"
   ]
  },
  {
   "cell_type": "markdown",
   "id": "9bdc21bf",
   "metadata": {},
   "source": [
    "#### Q.10. Write a code to create the given structure using while loop."
   ]
  },
  {
   "cell_type": "code",
   "execution_count": 35,
   "id": "0fe09332",
   "metadata": {},
   "outputs": [
    {
     "name": "stdout",
     "output_type": "stream",
     "text": [
      "|||||||||\n",
      " |||||||\n",
      "  |||||\n",
      "   |||\n",
      "    |\n"
     ]
    }
   ],
   "source": [
    "for i in range (1,6):\n",
    "        print(\" \"*(i-1)+'|'*(6-i)+'|'*(5-i))"
   ]
  },
  {
   "cell_type": "code",
   "execution_count": null,
   "id": "ca4c991c",
   "metadata": {},
   "outputs": [],
   "source": []
  }
 ],
 "metadata": {
  "kernelspec": {
   "display_name": "Python 3 (ipykernel)",
   "language": "python",
   "name": "python3"
  },
  "language_info": {
   "codemirror_mode": {
    "name": "ipython",
    "version": 3
   },
   "file_extension": ".py",
   "mimetype": "text/x-python",
   "name": "python",
   "nbconvert_exporter": "python",
   "pygments_lexer": "ipython3",
   "version": "3.10.9"
  }
 },
 "nbformat": 4,
 "nbformat_minor": 5
}
