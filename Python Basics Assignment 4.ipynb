{
 "cells": [
  {
   "cell_type": "markdown",
   "id": "f2d81364",
   "metadata": {},
   "source": [
    "#### 1. What exactly is []?"
   ]
  },
  {
   "cell_type": "markdown",
   "id": "e2384686",
   "metadata": {},
   "source": [
    "#### Solution"
   ]
  },
  {
   "cell_type": "markdown",
   "id": "c5d6bd2d",
   "metadata": {},
   "source": [
    "#### 2. In a list of values stored in a variable called spam, how would you assign the value &#39;hello&#39; as the third value? (Assume [2, 4, 6, 8, 10] are in spam.)"
   ]
  },
  {
   "cell_type": "markdown",
   "id": "2ed28196",
   "metadata": {},
   "source": [
    "#### Solution"
   ]
  },
  {
   "cell_type": "code",
   "execution_count": 8,
   "id": "8c2ec69b",
   "metadata": {},
   "outputs": [
    {
     "data": {
      "text/plain": [
       "[2, 4, 'hello', 6, 8, 10]"
      ]
     },
     "execution_count": 8,
     "metadata": {},
     "output_type": "execute_result"
    }
   ],
   "source": [
    "spam=[2,4,6,8,10]\n",
    "spam.insert(2,\"hello\")\n",
    "spam"
   ]
  },
  {
   "cell_type": "markdown",
   "id": "6733943b",
   "metadata": {},
   "source": [
    "#### Let&#39;s pretend the spam includes the list [&#39;a&#39;, &#39;b&#39;, &#39;c&#39;, &#39;d&#39;] for the next three queries."
   ]
  },
  {
   "cell_type": "markdown",
   "id": "35fd5c5a",
   "metadata": {},
   "source": [
    "#### 3. What is the value of spam[int(int(&#39;3&#39; * 2) / 11)]?"
   ]
  },
  {
   "cell_type": "markdown",
   "id": "3d3776dd",
   "metadata": {},
   "source": [
    "#### Solution"
   ]
  },
  {
   "cell_type": "code",
   "execution_count": null,
   "id": "21eba8f5",
   "metadata": {},
   "outputs": [],
   "source": [
    "spam=['a', 'b', 'c', 'd']\n",
    "\n",
    "\"\"\"square bracket is used to fetch an element from list using index syntax--->listname[index]\n",
    "-- int(int('3'*2)/11) \n",
    "-- ('3'*2) = '33' (because python allows string to be multipled by integer give multiple cpies of that stiring)\n",
    "-- int('33')/11=33/11=3 (because int fuction will convert string to int value )\n",
    "-- int(3)(again int of 3 will be three)\n",
    "-- so finally we will have spam[3] and list starts from zero index so value at 3rd index wil be fourth value in the list which \n",
    " is 'd'\n",
    "\"\"\""
   ]
  },
  {
   "cell_type": "code",
   "execution_count": 11,
   "id": "a8d86c74",
   "metadata": {},
   "outputs": [
    {
     "data": {
      "text/plain": [
       "'d'"
      ]
     },
     "execution_count": 11,
     "metadata": {},
     "output_type": "execute_result"
    }
   ],
   "source": [
    "spam[int(int('3' * 2) / 11)]"
   ]
  },
  {
   "cell_type": "markdown",
   "id": "613d851f",
   "metadata": {},
   "source": [
    "#### 4. What is the value of spam[-1]?"
   ]
  },
  {
   "cell_type": "markdown",
   "id": "f352860e",
   "metadata": {},
   "source": [
    "#### Solution:\n",
    "\n",
    "negative index fetches values in backward direction which is right to left so it will give first element from last which is 'd' \n",
    "in this case "
   ]
  },
  {
   "cell_type": "code",
   "execution_count": 14,
   "id": "b05bb5a7",
   "metadata": {},
   "outputs": [
    {
     "data": {
      "text/plain": [
       "'d'"
      ]
     },
     "execution_count": 14,
     "metadata": {},
     "output_type": "execute_result"
    }
   ],
   "source": [
    "spam[-1]"
   ]
  },
  {
   "cell_type": "markdown",
   "id": "a51d4231",
   "metadata": {},
   "source": [
    "#### 5. What is the value of spam[:2]?"
   ]
  },
  {
   "cell_type": "markdown",
   "id": "c18cf2d8",
   "metadata": {},
   "source": [
    "#### Solution:\n",
    "\n",
    "colon (:) with a list is used to create a slice of the list,so code spam[:2] will return a new list containing the elements from index 0 up to, but not including, index 2.\n"
   ]
  },
  {
   "cell_type": "code",
   "execution_count": 17,
   "id": "85d0fe0b",
   "metadata": {},
   "outputs": [
    {
     "data": {
      "text/plain": [
       "['a', 'b']"
      ]
     },
     "execution_count": 17,
     "metadata": {},
     "output_type": "execute_result"
    }
   ],
   "source": [
    "spam[:2]"
   ]
  },
  {
   "cell_type": "markdown",
   "id": "3018c44a",
   "metadata": {},
   "source": [
    "#### Let&#39;s pretend bacon has the list [3.14, &#39;cat,&#39; 11, &#39;cat,&#39; True] for the next three questions."
   ]
  },
  {
   "cell_type": "code",
   "execution_count": 42,
   "id": "56c3f35f",
   "metadata": {},
   "outputs": [],
   "source": [
    "bacon =[3.14,'cat',11,'cat', True]"
   ]
  },
  {
   "cell_type": "markdown",
   "id": "31e3af2a",
   "metadata": {},
   "source": [
    "#### 6. What is the value of bacon.index(&#39;cat&#39;)?"
   ]
  },
  {
   "cell_type": "markdown",
   "id": "2ba96da2",
   "metadata": {},
   "source": [
    "#### Solution:\n",
    "\n",
    "index() function returns the index of an list element when element is provided as argument. In case the list has duplicate values this function returns the first index it finds for the given value. \n",
    "In th given example the 'cat is at index 1 an index 3 , this functuion will give 1 as result"
   ]
  },
  {
   "cell_type": "code",
   "execution_count": 37,
   "id": "e0d85e8c",
   "metadata": {},
   "outputs": [
    {
     "data": {
      "text/plain": [
       "1"
      ]
     },
     "execution_count": 37,
     "metadata": {},
     "output_type": "execute_result"
    }
   ],
   "source": [
    "bacon.index('cat')"
   ]
  },
  {
   "cell_type": "markdown",
   "id": "1772c283",
   "metadata": {},
   "source": [
    "#### 7. How does bacon.append(99) change the look of the list value in bacon?"
   ]
  },
  {
   "cell_type": "markdown",
   "id": "96264bc6",
   "metadata": {},
   "source": [
    "#### Solution:\n",
    "append() function adds the given value which is given as argument, to the end of the list.\n",
    "In the given example 99 will added to the end of the list "
   ]
  },
  {
   "cell_type": "code",
   "execution_count": 43,
   "id": "34f2461c",
   "metadata": {},
   "outputs": [
    {
     "data": {
      "text/plain": [
       "[3.14, 'cat', 11, 'cat', True, 99]"
      ]
     },
     "execution_count": 43,
     "metadata": {},
     "output_type": "execute_result"
    }
   ],
   "source": [
    "bacon.append(99)\n",
    "bacon"
   ]
  },
  {
   "cell_type": "markdown",
   "id": "bdf9658c",
   "metadata": {},
   "source": [
    "#### 8. How does bacon.remove(&#39;cat&#39;) change the look of the list in bacon?"
   ]
  },
  {
   "cell_type": "markdown",
   "id": "6c71acbd",
   "metadata": {},
   "source": [
    "#### Solution:\n",
    "\n",
    "remove() method removes the first occurrence of the specified value. If there are multiple occurrences of the value in the list, only the first occurrence will be removed. If the value does not exist in the list, a ValueError will be raised.\n"
   ]
  },
  {
   "cell_type": "code",
   "execution_count": 44,
   "id": "2a2d1b2d",
   "metadata": {},
   "outputs": [
    {
     "data": {
      "text/plain": [
       "[3.14, 11, 'cat', True, 99]"
      ]
     },
     "execution_count": 44,
     "metadata": {},
     "output_type": "execute_result"
    }
   ],
   "source": [
    "bacon.remove('cat')\n",
    "bacon"
   ]
  },
  {
   "cell_type": "markdown",
   "id": "86df4360",
   "metadata": {},
   "source": [
    "#### 9. What are the list concatenation and list replication operators?"
   ]
  },
  {
   "cell_type": "markdown",
   "id": "eb6b36c6",
   "metadata": {},
   "source": [
    "#### Solution:\n",
    "\n",
    "1.List Concatenation (+):The + operator is used to concatenate or combine two lists into a single list. It creates a new list that contains all the elements from both lists in the order they appear.\n",
    "\n",
    "2.List Replication (*):The * operator is used to replicate or repeat a list by a specified number of times. It creates a new list that contains multiple copies of the original list."
   ]
  },
  {
   "cell_type": "code",
   "execution_count": 45,
   "id": "9e97ae6c",
   "metadata": {},
   "outputs": [
    {
     "name": "stdout",
     "output_type": "stream",
     "text": [
      "[3, 5, 7, 9, 11, 12]\n"
     ]
    }
   ],
   "source": [
    "# list concat example \n",
    "x=[3,5,7]\n",
    "y=[9,11,12]\n",
    "z=x+y\n",
    "print(z)"
   ]
  },
  {
   "cell_type": "code",
   "execution_count": 47,
   "id": "e803a475",
   "metadata": {},
   "outputs": [
    {
     "name": "stdout",
     "output_type": "stream",
     "text": [
      "[3, 5, 7, 3, 5, 7, 3, 5, 7]\n"
     ]
    }
   ],
   "source": [
    "# list replicate example \n",
    "a=[3,5,7]\n",
    "b=a*3\n",
    "print(b)"
   ]
  },
  {
   "cell_type": "markdown",
   "id": "de8e454f",
   "metadata": {},
   "source": [
    "#### 10. What is difference between the list methods append() and insert()?"
   ]
  },
  {
   "cell_type": "markdown",
   "id": "db7b781e",
   "metadata": {},
   "source": [
    "#### Solution:\n",
    "\n",
    "1. append() method:The append() method is used to add an element to the end of a list. It takes a single argument, which is the value to be appended, and adds it as the last element of the list.\n",
    "\n",
    "2. insert() method:The insert() method is used to add an element at a specific index in a list. It takes two arguments: the index where the element should be inserted, and the value to be inserted."
   ]
  },
  {
   "cell_type": "code",
   "execution_count": 56,
   "id": "00521148",
   "metadata": {},
   "outputs": [
    {
     "name": "stdout",
     "output_type": "stream",
     "text": [
      "[3, 30, 300, 3000, 30000]\n",
      "[2, 4, 8, 16, 32]\n"
     ]
    }
   ],
   "source": [
    "#append and insert example\n",
    "\n",
    "list1=[3,30,300,3000]\n",
    "list2=[2,4,8,32]\n",
    "list1.append(30000)\n",
    "list2.insert(3,16)\n",
    "print(list1)\n",
    "print(list2)"
   ]
  },
  {
   "cell_type": "markdown",
   "id": "08f27382",
   "metadata": {},
   "source": [
    "#### 11. What are the two methods for removing items from a list?"
   ]
  },
  {
   "cell_type": "markdown",
   "id": "19756e26",
   "metadata": {},
   "source": [
    "#### Solution:\n",
    "\n",
    "In Python, there are two commonly used methods for removing items from a list:\n",
    "\n",
    "1. remove() method: The remove() method is used to remove the first occurrence of a specific value from a list. It takes a single argument, which is the value to be removed.\n",
    "\n",
    "2. pop() method:The pop() method is used to remove an element from a list based on its index. It takes an optional argument, which is the index of the element to be removed. If no index is provided, pop() removes and returns the last element of the list.\n"
   ]
  },
  {
   "cell_type": "code",
   "execution_count": 57,
   "id": "5a1269e5",
   "metadata": {},
   "outputs": [
    {
     "name": "stdout",
     "output_type": "stream",
     "text": [
      "['apple', 'samsung', 'oppo', 'vivo', 'sony']\n",
      "[2017, 2018, 2019, 2020, 2021, 2022]\n"
     ]
    }
   ],
   "source": [
    "# remove and pop exmple \n",
    "phone=[\"apple\",\"samsung\",\"oppo\",\"nokia\",\"vivo\",\"sony\"]\n",
    "year=[2017,2018,2019,2020,2021,2022,2023]\n",
    "phone.remove(\"nokia\")\n",
    "year.pop()\n",
    "print(phone)\n",
    "print(year)"
   ]
  },
  {
   "cell_type": "markdown",
   "id": "a8bb963c",
   "metadata": {},
   "source": [
    "#### 12. Describe how list values and string values are identical."
   ]
  },
  {
   "cell_type": "markdown",
   "id": "128a0fbc",
   "metadata": {},
   "source": [
    "#### Solution:\n",
    "\n",
    "List values and string values in Python have some similarities, but they are fundamentally different data types. Here are a few ways in which they can be considered identical:\n",
    "\n",
    "1. Sequential Data: Both lists and strings are sequential data types. They store a collection of elements that can be accessed using indices.\n",
    "\n",
    "2. Indexing: Both lists and strings allow indexing to access individual elements. You can use square brackets ([]) with an index to retrieve a specific element from both data types. For example, my_list[0] or my_string[2] retrieves the first element of a list or the third character of a string, respectively.\n",
    "\n",
    "3. Iteration: Both lists and strings can be iterated over using loops, such as for loops, to process each element or character one by one.\n",
    "\n",
    "4. Slicing: Both lists and strings support slicing operations to extract a portion of the data. Slicing is done using the colon (:) notation. For instance, my_list[1:4] or my_string[2:5] retrieves a sublist from index 1 to 3 (exclusive) from a list, or a substring from index 2 to 4 (exclusive) from a string.\n",
    "\n",
    "5. Concatenation: Both lists and strings can be concatenated using the + operator. It combines two sequences into a new sequence.\n"
   ]
  },
  {
   "cell_type": "code",
   "execution_count": 78,
   "id": "2689cebf",
   "metadata": {},
   "outputs": [
    {
     "name": "stdout",
     "output_type": "stream",
     "text": [
      "y\n",
      "b\n"
     ]
    }
   ],
   "source": [
    "# list string example \n",
    "a=\"Mystring\"\n",
    "b=['a','b','c','d','e']\n",
    "\n",
    "#access\n",
    "print(a[1])\n",
    "print(b[1])"
   ]
  },
  {
   "cell_type": "code",
   "execution_count": 83,
   "id": "26f07a1a",
   "metadata": {},
   "outputs": [
    {
     "name": "stdout",
     "output_type": "stream",
     "text": [
      "a starts with M\n",
      "b does not starts with M\n"
     ]
    }
   ],
   "source": [
    "# loop\n",
    "\n",
    "if (a[0] == 'M') : \n",
    "    print (\"a starts with M\")\n",
    "   \n",
    "\n",
    "if (b[0] != 'M') : \n",
    "    print (\"b does not starts with M\")"
   ]
  },
  {
   "cell_type": "code",
   "execution_count": 84,
   "id": "d8be2b02",
   "metadata": {},
   "outputs": [
    {
     "name": "stdout",
     "output_type": "stream",
     "text": [
      "st\n",
      "['d', 'e']\n"
     ]
    }
   ],
   "source": [
    "#slicing\n",
    "print(a[2:4])\n",
    "print(b[3:])"
   ]
  },
  {
   "cell_type": "code",
   "execution_count": 86,
   "id": "a8fbb033",
   "metadata": {},
   "outputs": [
    {
     "name": "stdout",
     "output_type": "stream",
     "text": [
      "MystringMystring\n",
      "['a', 'b', 'c', 'd', 'e', 'a', 'b', 'c', 'd', 'e']\n"
     ]
    }
   ],
   "source": [
    "#concat\n",
    "print(a+a)\n",
    "print(b+b)"
   ]
  },
  {
   "cell_type": "markdown",
   "id": "27718b10",
   "metadata": {},
   "source": [
    "#### 13. What&#39;s the difference between tuples and lists?"
   ]
  },
  {
   "cell_type": "markdown",
   "id": "d600fac1",
   "metadata": {},
   "source": [
    "#### Solution:\n",
    "\n",
    "Tuples and lists are both data structures in Python used to store collections of items, but they have some fundamental differences:\n",
    "\n",
    "- Mutability:\n",
    "\n",
    "Lists are mutable, meaning their elements can be modified after creation. You can add, remove, or modify elements within a list.\n",
    "Tuples, on the other hand, are immutable. Once a tuple is created, its elements cannot be modified. It is not possible to add, remove, or change individual elements within a tuple.\n",
    "\n",
    "- Syntax and Creation:\n",
    "\n",
    "Lists are created using square brackets ([]) and comma-separated values.\n",
    "Tuples are created using parentheses (()) and comma-separated values.\n",
    "\n",
    "- Usage and Purpose:\n",
    "\n",
    "Lists are commonly used when you need a collection of items that can be modified. They are suitable for situations where the order or contents of the items might change over time.\n",
    "Tuples are often used to represent collections of items that should remain constant or unchanged. They are suitable for situations where you want to ensure the integrity of the data and prevent accidental modifications.\n",
    "\n",
    "- Performance:\n",
    "\n",
    "Due to their mutable nature, lists have a slightly higher memory overhead and slower performance compared to tuples.\n",
    "Tuples, being immutable, have better performance in terms of memory usage and iteration speed.\n",
    "\n",
    "- Method Availability:\n",
    "\n",
    "Lists have several built-in methods for manipulation, such as append(), insert(), remove(), and more, which allow you to modify the list in various ways.\n",
    "Tuples have fewer methods available since they are immutable. However, they still have methods like count() and index() for basic operations."
   ]
  },
  {
   "cell_type": "code",
   "execution_count": 96,
   "id": "aac84fe9",
   "metadata": {},
   "outputs": [],
   "source": [
    "# list and tuple example \n",
    "\n",
    "list1=[2,4,6,8]\n",
    "\n",
    "tuple1=(2,4,6,8)"
   ]
  },
  {
   "cell_type": "code",
   "execution_count": 97,
   "id": "b6a8d8b9",
   "metadata": {},
   "outputs": [
    {
     "data": {
      "text/plain": [
       "[2, 4, 6, 8, 10]"
      ]
     },
     "execution_count": 97,
     "metadata": {},
     "output_type": "execute_result"
    }
   ],
   "source": [
    "list1.append(10)\n",
    "list1"
   ]
  },
  {
   "cell_type": "code",
   "execution_count": 98,
   "id": "c729411f",
   "metadata": {},
   "outputs": [
    {
     "data": {
      "text/plain": [
       "1"
      ]
     },
     "execution_count": 98,
     "metadata": {},
     "output_type": "execute_result"
    }
   ],
   "source": [
    "tuple1.count(2)"
   ]
  },
  {
   "cell_type": "markdown",
   "id": "39c4426a",
   "metadata": {},
   "source": [
    "#### 14. How do you type a tuple value that only contains the integer 42?"
   ]
  },
  {
   "cell_type": "markdown",
   "id": "66feea9e",
   "metadata": {},
   "source": [
    "#### Solution:\n",
    "\n",
    "To create a tuple value that only contains the integer 42, you can use parentheses () and a comma , after the value. The trailing comma after the value is necessary to differentiate it from an expression in parentheses. It ensures that Python recognizes it as a tuple with a single element, rather than just the value enclosed in parentheses.\n"
   ]
  },
  {
   "cell_type": "code",
   "execution_count": 100,
   "id": "e3455338",
   "metadata": {},
   "outputs": [
    {
     "data": {
      "text/plain": [
       "tuple"
      ]
     },
     "execution_count": 100,
     "metadata": {},
     "output_type": "execute_result"
    }
   ],
   "source": [
    "a = (42,)\n",
    "type(a)"
   ]
  },
  {
   "cell_type": "code",
   "execution_count": 103,
   "id": "09178721",
   "metadata": {},
   "outputs": [
    {
     "data": {
      "text/plain": [
       "42"
      ]
     },
     "execution_count": 103,
     "metadata": {},
     "output_type": "execute_result"
    }
   ],
   "source": [
    "b=(42)\n",
    "b"
   ]
  },
  {
   "cell_type": "markdown",
   "id": "fd968f72",
   "metadata": {},
   "source": [
    "#### 15. How do you get a list value&#39;s tuple form? How do you get a tuple value&#39;s list form?"
   ]
  },
  {
   "cell_type": "markdown",
   "id": "a3048fc2",
   "metadata": {},
   "source": [
    "#### Solution:\n",
    "\n",
    "To convert a list value to its tuple form, you can use the tuple() function and to convert tuple to list we can use list() function"
   ]
  },
  {
   "cell_type": "code",
   "execution_count": 106,
   "id": "a4c5b3b1",
   "metadata": {},
   "outputs": [
    {
     "name": "stdout",
     "output_type": "stream",
     "text": [
      "(6, 9, 0, 11, 15)\n"
     ]
    },
    {
     "data": {
      "text/plain": [
       "tuple"
      ]
     },
     "execution_count": 106,
     "metadata": {},
     "output_type": "execute_result"
    }
   ],
   "source": [
    "# example list to tuple \n",
    "lis1=[6,9,0,11,15]\n",
    "tup=tuple(lis1)\n",
    "print(tup)\n",
    "type(tup)"
   ]
  },
  {
   "cell_type": "code",
   "execution_count": 107,
   "id": "aaebc1cc",
   "metadata": {},
   "outputs": [
    {
     "name": "stdout",
     "output_type": "stream",
     "text": [
      "[6, 9, 0, 11, 15]\n"
     ]
    },
    {
     "data": {
      "text/plain": [
       "list"
      ]
     },
     "execution_count": 107,
     "metadata": {},
     "output_type": "execute_result"
    }
   ],
   "source": [
    "# example tuple to list\n",
    "tup1=(6,9,0,11,15)\n",
    "lis=list(tup1)\n",
    "print(lis)\n",
    "type(lis)"
   ]
  },
  {
   "cell_type": "markdown",
   "id": "84687053",
   "metadata": {},
   "source": [
    "#### 16. Variables that &quot;contain&quot; list values are not necessarily lists themselves. Instead, what do they contain?"
   ]
  },
  {
   "cell_type": "markdown",
   "id": "5c8d07c8",
   "metadata": {},
   "source": [
    "#### Solution:\n",
    "\n",
    "Variables that \"contain\" list values in Python do not actually contain the list itself. Instead, they contain a reference to the list. In Python, variables are essentially names or labels that refer to objects stored in memory.\n",
    "\n",
    "When you assign a list to a variable, the variable holds a reference or pointer to the memory location where the list is stored. This means that the variable does not store the actual list data, but rather holds the information about where the list is located in memory."
   ]
  },
  {
   "cell_type": "code",
   "execution_count": 112,
   "id": "9b9f029e",
   "metadata": {},
   "outputs": [
    {
     "data": {
      "text/plain": [
       "1298151899904"
      ]
     },
     "execution_count": 112,
     "metadata": {},
     "output_type": "execute_result"
    }
   ],
   "source": [
    "# example \n",
    "lis2= [1,7,14,21]\n",
    "id(lis2)"
   ]
  },
  {
   "cell_type": "markdown",
   "id": "a5d74833",
   "metadata": {},
   "source": [
    "#### 17. How do you distinguish between copy.copy() and copy.deepcopy()?"
   ]
  },
  {
   "cell_type": "markdown",
   "id": "e0f4cb13",
   "metadata": {},
   "source": [
    "#### Solution:\n",
    "\n",
    "The copy.copy() and copy.deepcopy() functions are used in Python's copy module to create copies of objects. While both functions perform copying operations, they differ in the level of copying they perform:\n",
    "\n",
    "1. copy.copy():\n",
    "- The copy.copy() function creates a shallow copy of an object.\n",
    "- A shallow copy creates a new object but references the same nested objects as the original. In other words, the top-level object is copied, but the nested objects are still shared between the original and the copy.\n",
    "- If the original object is modified, the shallow copy will reflect those changes since they share the same references to nested objects.\n",
    "- copy.copy() is useful when you want a new object that contains references to the same nested objects as the original.\n",
    "\n",
    "2. copy.deepcopy():\n",
    "- The copy.deepcopy() function creates a deep copy of an object.\n",
    "- A deep copy creates a new object and recursively copies all nested objects as well. This means that even if the original object is modified, the deep copy remains unaffected.\n",
    "- copy.deepcopy() is useful when you want a completely independent copy of an object, including all its nested objects."
   ]
  },
  {
   "cell_type": "code",
   "execution_count": 127,
   "id": "c877e2e2",
   "metadata": {},
   "outputs": [
    {
     "name": "stdout",
     "output_type": "stream",
     "text": [
      "[[10, 20], [30, 40, 50], [60, 70, 80, 90]]\n",
      "[[10, 20], [30, 40, 50], [60, 70, 80, 90]]\n",
      "[[10, 20], [30, 40, 50], [60, 70, 80]]\n"
     ]
    }
   ],
   "source": [
    "# example copy.copy()\n",
    "import copy\n",
    "age=[[10,20],[30,40,50],[60,70,80]]\n",
    "age_shallowcopy=copy.copy(age)\n",
    "age_deepcopy=copy.deepcopy(age)\n",
    "age[2].append(90)\n",
    "\n",
    "print(age)\n",
    "print(age_shallowcopy)\n",
    "print(age_deepcopy)"
   ]
  },
  {
   "cell_type": "code",
   "execution_count": 119,
   "id": "f12d4335",
   "metadata": {},
   "outputs": [
    {
     "name": "stdout",
     "output_type": "stream",
     "text": [
      "[30, 40, 50, 60]\n",
      "[30, 40, 50]\n"
     ]
    }
   ],
   "source": [
    "# example copy.copy()\n",
    "import copy\n",
    "age=[30,40,50]\n",
    "age_shallowcopy=copy.deepcopy(age)\n",
    "\n",
    "age.append(60)\n",
    "\n",
    "print(age)\n",
    "print(age_shallowcopy)"
   ]
  }
 ],
 "metadata": {
  "kernelspec": {
   "display_name": "Python 3 (ipykernel)",
   "language": "python",
   "name": "python3"
  },
  "language_info": {
   "codemirror_mode": {
    "name": "ipython",
    "version": 3
   },
   "file_extension": ".py",
   "mimetype": "text/x-python",
   "name": "python",
   "nbconvert_exporter": "python",
   "pygments_lexer": "ipython3",
   "version": "3.10.9"
  }
 },
 "nbformat": 4,
 "nbformat_minor": 5
}
