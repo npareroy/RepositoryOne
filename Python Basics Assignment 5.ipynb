{
 "cells": [
  {
   "cell_type": "markdown",
   "id": "569ba0f8",
   "metadata": {},
   "source": [
    "#### 1. What does an empty dictionary&#39;s code look like?"
   ]
  },
  {
   "cell_type": "markdown",
   "id": "4835a4b1",
   "metadata": {},
   "source": [
    "#### Solution :\n",
    "\n",
    "In Python, an empty dictionary is represented by a pair of curly braces {}. It is a literal notation for creating an empty dictionary object. An empty dictionary does not contain any key-value pairs."
   ]
  },
  {
   "cell_type": "code",
   "execution_count": 4,
   "id": "05e5ced3",
   "metadata": {},
   "outputs": [
    {
     "data": {
      "text/plain": [
       "dict"
      ]
     },
     "execution_count": 4,
     "metadata": {},
     "output_type": "execute_result"
    }
   ],
   "source": [
    "dic1={}\n",
    "type(dic1)"
   ]
  },
  {
   "cell_type": "markdown",
   "id": "521a5577",
   "metadata": {},
   "source": [
    "#### 2. What is the value of a dictionary value with the key &#39;foo&#39; and the value 42?"
   ]
  },
  {
   "cell_type": "markdown",
   "id": "0c7fda3e",
   "metadata": {},
   "source": [
    "#### Solution:\n",
    "dictonary value are the values from the key value pair in dictonary. values() fuction provides all the values in the dictonary.\n",
    "we can also access value using the key as index.\n"
   ]
  },
  {
   "cell_type": "code",
   "execution_count": 6,
   "id": "b0e2d248",
   "metadata": {},
   "outputs": [
    {
     "data": {
      "text/plain": [
       "{'foo': 42}"
      ]
     },
     "execution_count": 6,
     "metadata": {},
     "output_type": "execute_result"
    }
   ],
   "source": [
    "dic2={'foo':42}\n",
    "dic2"
   ]
  },
  {
   "cell_type": "code",
   "execution_count": 9,
   "id": "3ffa1b18",
   "metadata": {},
   "outputs": [
    {
     "data": {
      "text/plain": [
       "dict_values([42])"
      ]
     },
     "execution_count": 9,
     "metadata": {},
     "output_type": "execute_result"
    }
   ],
   "source": [
    "dic2.values()"
   ]
  },
  {
   "cell_type": "code",
   "execution_count": 10,
   "id": "07394f00",
   "metadata": {},
   "outputs": [
    {
     "data": {
      "text/plain": [
       "42"
      ]
     },
     "execution_count": 10,
     "metadata": {},
     "output_type": "execute_result"
    }
   ],
   "source": [
    "dic2['foo']"
   ]
  },
  {
   "cell_type": "markdown",
   "id": "64a846af",
   "metadata": {},
   "source": [
    "#### 3. What is the most significant distinction between a dictionary and a list?"
   ]
  },
  {
   "cell_type": "markdown",
   "id": "ea2b1f18",
   "metadata": {},
   "source": [
    "#### Solution:\n",
    "\n",
    "\n",
    "The most significant distinction between a dictionary and a list in Python is the way they store and organize data:\n",
    "\n",
    "- Data Organization: Lists are ordered collections of elements. They maintain the order of elements as they are inserted and allow accessing elements by their indices (integer positions).Dictionaries, on the other hand, are unordered collections of key-value pairs. They associate keys with their corresponding values, allowing fast and efficient retrieval of values using the keys.\n",
    "\n",
    "- Accessing Elements: In a list, elements are accessed using integer indices starting from 0. For example, my_list[0] retrieves the first element, my_list[1] retrieves the second element, and so on.In dictionaries, values are accessed using keys instead of indices. Each key in a dictionary must be unique, and it is associated with a specific value. For example, my_dict['key'] retrieves the value associated with the key 'key'.\n",
    "\n",
    "- Mutable vs. Immutable: Lists are mutable, meaning their elements can be modified. You can add, remove, or modify elements within a list.Dictionaries are also mutable. You can add, remove, or modify key-value pairs within a dictionary.\n",
    "\n",
    "- Data Structure Purpose:Lists are suitable for storing collections of elements where the order matters, and accessing elements by their position is important. They are often used when the data needs to be maintained in a specific sequence.Dictionaries are used when data needs to be accessed based on specific keys. They are efficient for lookup operations and are suitable for situations where the association between keys and values is important.\n",
    "\n"
   ]
  },
  {
   "cell_type": "code",
   "execution_count": 15,
   "id": "d2add771",
   "metadata": {},
   "outputs": [
    {
     "name": "stdout",
     "output_type": "stream",
     "text": [
      "2\n",
      "2\n"
     ]
    }
   ],
   "source": [
    "#list and dic\n",
    "\n",
    "my_list=[5,4,3,2,1]\n",
    "my_dic={\"ram\":5,\"shyam\":4,\"sudha\":3,\"megha\":2,\"shiv\":1}\n",
    "\n",
    "#access\n",
    "print(my_list[3])\n",
    "print(my_dic[\"megha\"])"
   ]
  },
  {
   "cell_type": "markdown",
   "id": "2823361d",
   "metadata": {},
   "source": [
    "#### 4. What happens if you try to access spam[&#39;foo&#39;] if spam is {&#39;bar&#39;: 100}?"
   ]
  },
  {
   "cell_type": "markdown",
   "id": "3ee1cd25",
   "metadata": {},
   "source": [
    "#### Solution:\n",
    "When a key is not present in a dictonary and someone tries to access it python thows KeyError . "
   ]
  },
  {
   "cell_type": "code",
   "execution_count": 17,
   "id": "eff7e1c2",
   "metadata": {},
   "outputs": [
    {
     "ename": "KeyError",
     "evalue": "'foo'",
     "output_type": "error",
     "traceback": [
      "\u001b[1;31m---------------------------------------------------------------------------\u001b[0m",
      "\u001b[1;31mKeyError\u001b[0m                                  Traceback (most recent call last)",
      "Cell \u001b[1;32mIn[17], line 2\u001b[0m\n\u001b[0;32m      1\u001b[0m spam\u001b[38;5;241m=\u001b[39m{\u001b[38;5;124m'\u001b[39m\u001b[38;5;124mbar\u001b[39m\u001b[38;5;124m'\u001b[39m:\u001b[38;5;241m100\u001b[39m}\n\u001b[1;32m----> 2\u001b[0m \u001b[43mspam\u001b[49m\u001b[43m[\u001b[49m\u001b[38;5;124;43m'\u001b[39;49m\u001b[38;5;124;43mfoo\u001b[39;49m\u001b[38;5;124;43m'\u001b[39;49m\u001b[43m]\u001b[49m\n",
      "\u001b[1;31mKeyError\u001b[0m: 'foo'"
     ]
    }
   ],
   "source": [
    "spam={'bar':100}\n",
    "spam['foo']"
   ]
  },
  {
   "cell_type": "markdown",
   "id": "886ed8fe",
   "metadata": {},
   "source": [
    "#### 5. If a dictionary is stored in spam, what is the difference between the expressions &#39;cat&#39; in spam and &#39;cat&#39; in spam.keys()?"
   ]
  },
  {
   "cell_type": "markdown",
   "id": "dcbac246",
   "metadata": {},
   "source": [
    "#### Solution:\n",
    "\n",
    "The expressions 'cat' in spam and 'cat' in spam.keys() both check for the presence of the key 'cat' in the dictionary spam, but they differ in their behavior:\n",
    "\n",
    "- 'cat' in spam:This expression checks if the key 'cat' exists directly in the dictionary spam.It returns a boolean value of True if the key is present as a direct key in the dictionary, and False otherwise.This expression does not iterate through all the keys of the dictionary but directly checks for the existence of the key.\n",
    "\n",
    "- 'cat' in spam.keys():This expression checks if the key 'cat' exists among the keys of the dictionary spam.It returns a boolean value of True if the key is found among the keys of the dictionary, and False otherwise.spam.keys() returns a view object that represents the keys of the dictionary, and the in operator checks for the presence of the key within this view object."
   ]
  },
  {
   "cell_type": "code",
   "execution_count": 21,
   "id": "1a1136dd",
   "metadata": {},
   "outputs": [
    {
     "data": {
      "text/plain": [
       "True"
      ]
     },
     "execution_count": 21,
     "metadata": {},
     "output_type": "execute_result"
    }
   ],
   "source": [
    "spam={'bar':100,'cat':200}\n",
    "'cat'in spam # retuns boolen value so can be more useful with if satatement"
   ]
  },
  {
   "cell_type": "code",
   "execution_count": 23,
   "id": "29e97819",
   "metadata": {},
   "outputs": [
    {
     "data": {
      "text/plain": [
       "dict_keys(['bar', 'cat'])"
      ]
     },
     "execution_count": 23,
     "metadata": {},
     "output_type": "execute_result"
    }
   ],
   "source": [
    "spam.keys() ###--this returns a view obj and can be more usefule with for statements"
   ]
  },
  {
   "cell_type": "code",
   "execution_count": 24,
   "id": "193ea7ca",
   "metadata": {},
   "outputs": [
    {
     "data": {
      "text/plain": [
       "True"
      ]
     },
     "execution_count": 24,
     "metadata": {},
     "output_type": "execute_result"
    }
   ],
   "source": [
    "'cat'in spam.keys()"
   ]
  },
  {
   "cell_type": "markdown",
   "id": "481ef9bf",
   "metadata": {},
   "source": [
    "#### 6. If a dictionary is stored in spam, what is the difference between the expressions &#39;cat&#39; in spam and &#39;cat&#39; in spam.values()?\n"
   ]
  },
  {
   "cell_type": "markdown",
   "id": "a5101ac5",
   "metadata": {},
   "source": [
    "#### Solution:\n",
    "\n",
    "The expressions 'cat' in spam and 'cat' in spam.values() both check for the presence of the value 'cat' in the dictionary spam, but they differ in their behavior:\n",
    "\n",
    "- 'cat' in spam:This expression checks if the value 'cat' exists as a direct value in the dictionary spam.It returns a boolean value of True if the value is present as a direct value in the dictionary, and False otherwise.This expression iterates through the values of the dictionary to check for the existence of the value.\n",
    "\n",
    "- 'cat' in spam.values():This expression checks if the value 'cat' exists among the values of the dictionary spam.It returns a boolean value of True if the value is found among the values of the dictionary, and False otherwise.spam.values() returns a view object that represents the values of the dictionary, and the in operator checks for the presence of the value within this view object."
   ]
  },
  {
   "cell_type": "code",
   "execution_count": 28,
   "id": "29721d9d",
   "metadata": {},
   "outputs": [
    {
     "data": {
      "text/plain": [
       "True"
      ]
     },
     "execution_count": 28,
     "metadata": {},
     "output_type": "execute_result"
    }
   ],
   "source": [
    "spam={'bar':100,'cat':200}\n",
    "'cat'in spam # retuns boolen value so can be more useful with if satatement"
   ]
  },
  {
   "cell_type": "code",
   "execution_count": 29,
   "id": "8e374d01",
   "metadata": {},
   "outputs": [
    {
     "data": {
      "text/plain": [
       "dict_values([100, 200])"
      ]
     },
     "execution_count": 29,
     "metadata": {},
     "output_type": "execute_result"
    }
   ],
   "source": [
    "spam.values() ###--this returns a view obj and can be more usefule with for statements"
   ]
  },
  {
   "cell_type": "code",
   "execution_count": 30,
   "id": "dce71fee",
   "metadata": {},
   "outputs": [
    {
     "data": {
      "text/plain": [
       "False"
      ]
     },
     "execution_count": 30,
     "metadata": {},
     "output_type": "execute_result"
    }
   ],
   "source": [
    "'cat'in spam.values()"
   ]
  },
  {
   "cell_type": "markdown",
   "id": "a55cd288",
   "metadata": {},
   "source": [
    "#### 7. What is a shortcut for the following code?\n",
    "\n",
    "if &#39;color&#39; not in spam:\n",
    "spam[&#39;color&#39;] = &#39;black&#39;"
   ]
  },
  {
   "cell_type": "markdown",
   "id": "f1048d5c",
   "metadata": {},
   "source": [
    "#### Solution:\n",
    "A shortcut for the given code can be achieved using the dict.setdefault() method. The setdefault() method allows you to set a default value for a key in a dictionary if the key does not already exist. "
   ]
  },
  {
   "cell_type": "code",
   "execution_count": 38,
   "id": "9651d1fe",
   "metadata": {},
   "outputs": [
    {
     "data": {
      "text/plain": [
       "'black'"
      ]
     },
     "execution_count": 38,
     "metadata": {},
     "output_type": "execute_result"
    }
   ],
   "source": [
    "spam.setdefault('color', 'black')"
   ]
  },
  {
   "cell_type": "code",
   "execution_count": 40,
   "id": "91b628b1",
   "metadata": {},
   "outputs": [
    {
     "data": {
      "text/plain": [
       "{'bar': 100, 'cat': 200, 'color': 'black'}"
      ]
     },
     "execution_count": 40,
     "metadata": {},
     "output_type": "execute_result"
    }
   ],
   "source": [
    "spam"
   ]
  },
  {
   "cell_type": "markdown",
   "id": "111b4270",
   "metadata": {},
   "source": [
    "#### 8. How do you &quot;pretty print&quot; dictionary values using which module and function?"
   ]
  },
  {
   "cell_type": "markdown",
   "id": "45e80e08",
   "metadata": {},
   "source": [
    "#### Solution\n",
    "\n",
    "To \"pretty print\" dictionary values in Python, you can use the pprint module and its pprint() function. The pprint module provides a way to display complex data structures, such as dictionaries, in a more readable and organized format."
   ]
  },
  {
   "cell_type": "code",
   "execution_count": 42,
   "id": "298ebd66",
   "metadata": {},
   "outputs": [
    {
     "name": "stdout",
     "output_type": "stream",
     "text": [
      "{'bar': 100, 'cat': 200, 'color': 'black'}\n"
     ]
    }
   ],
   "source": [
    "import pprint\n",
    "#pprint.pprint() function is used to pretty print the dictionary\n",
    "pprint.pprint(spam)"
   ]
  }
 ],
 "metadata": {
  "kernelspec": {
   "display_name": "Python 3 (ipykernel)",
   "language": "python",
   "name": "python3"
  },
  "language_info": {
   "codemirror_mode": {
    "name": "ipython",
    "version": 3
   },
   "file_extension": ".py",
   "mimetype": "text/x-python",
   "name": "python",
   "nbconvert_exporter": "python",
   "pygments_lexer": "ipython3",
   "version": "3.10.9"
  }
 },
 "nbformat": 4,
 "nbformat_minor": 5
}
