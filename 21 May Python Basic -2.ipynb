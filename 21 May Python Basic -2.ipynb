{
 "cells": [
  {
   "cell_type": "markdown",
   "id": "95c167c0",
   "metadata": {},
   "source": [
    "#### Q.1. Create two int type variables, apply addition, subtraction, division and multiplications and store the results in variables. Then print the data in the following format by calling the variables:\n",
    "\n",
    "- First variable is __ & second variable is __.\n",
    "- Addition: __ + __ = __\n",
    "- Subtraction: __ - __ = __\n",
    "- Multiplication: __ * __ = __\n",
    "- Division: __ / __ = __"
   ]
  },
  {
   "cell_type": "code",
   "execution_count": 9,
   "id": "c384ef38",
   "metadata": {},
   "outputs": [
    {
     "name": "stdout",
     "output_type": "stream",
     "text": [
      "First variable is 50 & second variable is 10\n"
     ]
    }
   ],
   "source": [
    "x=50\n",
    "y=10\n",
    "print (\"First variable is \" + str(x) +\" & second variable is \"+ str(y))"
   ]
  },
  {
   "cell_type": "code",
   "execution_count": 31,
   "id": "d45fbdae",
   "metadata": {},
   "outputs": [
    {
     "name": "stdout",
     "output_type": "stream",
     "text": [
      "Addition:50+10=60\n"
     ]
    }
   ],
   "source": [
    "#addition \n",
    "sum=x+y\n",
    "\n",
    "print (\"Addition:\" + str(x) +\"+\"+ str(y)+\"=\"+str(sum))"
   ]
  },
  {
   "cell_type": "code",
   "execution_count": 34,
   "id": "23b86e1e",
   "metadata": {},
   "outputs": [
    {
     "name": "stdout",
     "output_type": "stream",
     "text": [
      "Subtraction:50-10=40\n"
     ]
    }
   ],
   "source": [
    "#subtraction \n",
    "diff=x-y\n",
    "\n",
    "print (\"Subtraction:\" + str(x) +\"-\"+ str(y)+\"=\"+str(diff))"
   ]
  },
  {
   "cell_type": "code",
   "execution_count": 39,
   "id": "01c471b9",
   "metadata": {},
   "outputs": [
    {
     "name": "stdout",
     "output_type": "stream",
     "text": [
      "Multiplication:50*10=500\n"
     ]
    }
   ],
   "source": [
    "#multiplication \n",
    "prod=x*y\n",
    "\n",
    "print (\"Multiplication:\" + str(x) +\"*\"+ str(y)+\"=\"+str(prod))"
   ]
  },
  {
   "cell_type": "code",
   "execution_count": 38,
   "id": "2ff33121",
   "metadata": {},
   "outputs": [
    {
     "name": "stdout",
     "output_type": "stream",
     "text": [
      "Multiplication:50/10=5.0\n"
     ]
    }
   ],
   "source": [
    "#division \n",
    "div=x/y\n",
    "\n",
    "print (\"Multiplication:\" + str(x) +\"/\"+ str(y)+\"=\"+str(div))"
   ]
  },
  {
   "cell_type": "markdown",
   "id": "9f952bbf",
   "metadata": {},
   "source": [
    "#### Q.2. What is the difference between the following operators:\n",
    "(i) ‘/’ & ‘//’\n",
    "(ii) ‘**’ & ‘^’"
   ]
  },
  {
   "cell_type": "markdown",
   "id": "ac3e7bfa",
   "metadata": {},
   "source": [
    "#### Solution:\n",
    "\n",
    "(i) \"/\" vs \"//\"\n",
    "\n",
    "- '/' (Division Operator): When used with two operands of numeric types (integers or floats), the / operator performs floating-point division and returns the quotient as a float.If both operands are integers, the result will be a float if the division is not exact.\n",
    "\n",
    "- '//' (Floor Division Operator):The // operator performs floor division, which returns the largest integer that is less than or equal to the division result.The result is always an integer, regardless of the operand types.\n"
   ]
  },
  {
   "cell_type": "code",
   "execution_count": 22,
   "id": "db9a54de",
   "metadata": {},
   "outputs": [
    {
     "data": {
      "text/plain": [
       "33.333333333333336"
      ]
     },
     "execution_count": 22,
     "metadata": {},
     "output_type": "execute_result"
    }
   ],
   "source": [
    "num=100/3\n",
    "num"
   ]
  },
  {
   "cell_type": "code",
   "execution_count": 21,
   "id": "73f0d39b",
   "metadata": {},
   "outputs": [
    {
     "data": {
      "text/plain": [
       "33"
      ]
     },
     "execution_count": 21,
     "metadata": {},
     "output_type": "execute_result"
    }
   ],
   "source": [
    "test=100//3\n",
    "test"
   ]
  },
  {
   "cell_type": "markdown",
   "id": "c6563479",
   "metadata": {},
   "source": [
    "(ii) ‘**’ vs ‘^’\n",
    "\n",
    "- '**' (Exponentiation Operator):The ** operator is used for exponentiation or raising a number to a power.It takes two operands: the base and the exponent.The result of base ** exponent is the base raised to the power of the exponent.\n",
    "\n",
    "- '^' (Bitwise XOR Operator):The ^ operator is the bitwise XOR (exclusive OR) operator.It performs the bitwise XOR operation on the binary representations of two integers.Each bit of the result is the XOR of the corresponding bits of the operands."
   ]
  },
  {
   "cell_type": "code",
   "execution_count": 29,
   "id": "92e4db19",
   "metadata": {},
   "outputs": [
    {
     "data": {
      "text/plain": [
       "125"
      ]
     },
     "execution_count": 29,
     "metadata": {},
     "output_type": "execute_result"
    }
   ],
   "source": [
    "exp_op = 5 ** 3\n",
    "exp_op"
   ]
  },
  {
   "cell_type": "code",
   "execution_count": 28,
   "id": "959be577",
   "metadata": {},
   "outputs": [
    {
     "data": {
      "text/plain": [
       "6"
      ]
     },
     "execution_count": 28,
     "metadata": {},
     "output_type": "execute_result"
    }
   ],
   "source": [
    "bitwise_xor = 5 ^ 3\n",
    "bitwise_xor"
   ]
  },
  {
   "cell_type": "markdown",
   "id": "0cd8d5c8",
   "metadata": {},
   "source": [
    "#### Q.3. List the logical operators."
   ]
  },
  {
   "cell_type": "markdown",
   "id": "087661d2",
   "metadata": {},
   "source": [
    "#### Solution:\n",
    "\n",
    "In Python, the logical operators are used to perform logical operations on Boolean values or expressions. They allow you to combine and manipulate the truth values of Boolean expressions. The logical operators in Python are:\n",
    "\n",
    "1. and: The and operator returns True if both operands are True, and False otherwise.\n",
    "\n",
    "2. or: The or operator returns True if at least one of the operands is True, and False otherwise.\n",
    "\n",
    "3. not: The not operator returns the opposite Boolean value of the operand. It negates the truth value.\n",
    "\n",
    "Logical operators are commonly used in conditional statements, boolean expressions, and boolean logic. They allow you to evaluate multiple conditions and control the flow of your program based on the truth values of those conditions.It's important to note that logical operators follow short-circuit evaluation. This means that the second operand is only evaluated if necessary."
   ]
  },
  {
   "cell_type": "markdown",
   "id": "95e39358",
   "metadata": {},
   "source": [
    "#### Q.4. Explain right shift operator and left shift operator with examples."
   ]
  },
  {
   "cell_type": "markdown",
   "id": "430a3f60",
   "metadata": {},
   "source": [
    "#### Solution:\n",
    "In Python, the right shift (>>) and left shift (<<) operators are used to perform bitwise shifting operations on integer values. These operators shift the bits of an integer value to the right or left, respectively, by a specified number of positions.\n",
    "\n",
    "\n",
    "In Python, the right shift (>>) and left shift (<<) operators are used to perform bitwise shifting operations on integer values. These operators shift the bits of an integer value to the right or left, respectively, by a specified number of positions.\n",
    "\n",
    "1.Right Shift Operator (>>):The right shift operator (>>) shifts the bits of a number to the right by the specified number of positions.Each right shift by one position is equivalent to dividing the number by 2 (integer division).\n",
    "\n",
    "\n",
    "2.Left Shift Operator (<<):The left shift operator (<<) shifts the bits of a number to the left by the specified number of positions.Each left shift by one position is equivalent to multiplying the number by 2."
   ]
  },
  {
   "cell_type": "code",
   "execution_count": 15,
   "id": "5a09a678",
   "metadata": {},
   "outputs": [
    {
     "name": "stdout",
     "output_type": "stream",
     "text": [
      "5\n"
     ]
    }
   ],
   "source": [
    "#right shift\n",
    "a = 10 \n",
    "div = a >> 1\n",
    "print(div)  "
   ]
  },
  {
   "cell_type": "code",
   "execution_count": 17,
   "id": "7083825b",
   "metadata": {},
   "outputs": [
    {
     "name": "stdout",
     "output_type": "stream",
     "text": [
      "20\n"
     ]
    }
   ],
   "source": [
    "#left shift\n",
    "b = 10 \n",
    "pro = b << 1\n",
    "print(pro) "
   ]
  },
  {
   "cell_type": "markdown",
   "id": "19c2f916",
   "metadata": {},
   "source": [
    "#### Q.5. Create a list containing int type data of length 15. Then write a code to check if 10 is present in the list or not."
   ]
  },
  {
   "cell_type": "markdown",
   "id": "a52332db",
   "metadata": {},
   "source": [
    "#### Solution:"
   ]
  },
  {
   "cell_type": "code",
   "execution_count": 13,
   "id": "dca2464b",
   "metadata": {},
   "outputs": [
    {
     "name": "stdout",
     "output_type": "stream",
     "text": [
      "The number 10 is present in the list.\n"
     ]
    }
   ],
   "source": [
    "#creating list \n",
    "test_list=[17,9,11,16,12,10,13,14,15,90,100,99,14,67,2]\n",
    "\n",
    "#checking if 10 is present \n",
    "if 10 in test_list:\n",
    "    print(\"The number 10 is present in the list.\")\n",
    "else:\n",
    "    print(\"The number 10 is not present in the list.\")"
   ]
  }
 ],
 "metadata": {
  "kernelspec": {
   "display_name": "Python 3 (ipykernel)",
   "language": "python",
   "name": "python3"
  },
  "language_info": {
   "codemirror_mode": {
    "name": "ipython",
    "version": 3
   },
   "file_extension": ".py",
   "mimetype": "text/x-python",
   "name": "python",
   "nbconvert_exporter": "python",
   "pygments_lexer": "ipython3",
   "version": "3.10.9"
  }
 },
 "nbformat": 4,
 "nbformat_minor": 5
}
